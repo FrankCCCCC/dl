{
  "nbformat": 4,
  "nbformat_minor": 0,
  "metadata": {
    "colab": {
      "name": "dl_lab3_hw.ipynb",
      "provenance": [],
      "collapsed_sections": []
    },
    "kernelspec": {
      "name": "python3",
      "display_name": "Python 3"
    }
  },
  "cells": [
    {
      "cell_type": "code",
      "metadata": {
        "id": "aZb6ocW_vvxA"
      },
      "source": [
        "from sklearn.tree import DecisionTreeClassifier\n",
        "from sklearn.model_selection import train_test_split\n",
        "from sklearn.datasets import load_breast_cancer\n",
        "import pandas as pd\n",
        "from sklearn.metrics import accuracy_score\n",
        "from sklearn.ensemble import RandomForestClassifier\n",
        "import numpy as np"
      ],
      "execution_count": 4,
      "outputs": []
    },
    {
      "cell_type": "code",
      "metadata": {
        "id": "3GCIUv_Gdtn5"
      },
      "source": [
        "def pca(data, component_num = 3):\n",
        "  z = np.dot(data.T, data)\n",
        "  eigen_vals, eigen_vecs = np.linalg.eigh(z)\n",
        "  eigen_vals = np.abs(eigen_vals)\n",
        "  eigen_pairs = [(eigen_vals[i], eigen_vecs[:,i]) for i in range(eigen_vals.shape[0])]\n",
        "\n",
        "  # Sort eigen value and vector pairs in descent order\n",
        "  eigen_pairs.sort(key = lambda item: item[0], reverse = True)\n",
        "\n",
        "  #  Seperate eigenvalues and eigenvectors\n",
        "  sorted_eigen_vals = []\n",
        "  sorted_eigen_vecs = []\n",
        "  for pair in eigen_pairs:\n",
        "    sorted_eigen_vals.append(pair[0])\n",
        "    sorted_eigen_vecs.append(pair[1])\n",
        "\n",
        "  # Calculate explain ratio for top pairs\n",
        "  total_eigen_val = sum(sorted_eigen_vals)\n",
        "  explain_ratios = np.cumsum(sorted_eigen_vals) / total_eigen_val\n",
        "  \n",
        "  top_eigen_vals = sorted_eigen_vals[:component_num]\n",
        "  top_eigen_vecs = sorted_eigen_vecs[:component_num]\n",
        "\n",
        "  # print(top_eigen_vals)\n",
        "  # print(top_eigen_vecs)\n",
        "  # print(explain_ratios)\n",
        "\n",
        "  return top_eigen_vals, top_eigen_vecs, explain_ratios"
      ],
      "execution_count": 5,
      "outputs": []
    },
    {
      "cell_type": "code",
      "metadata": {
        "id": "C0IjLfRF3KO0",
        "outputId": "6a2033c3-764c-4e1b-eee0-9d6408d7f362",
        "colab": {
          "base_uri": "https://localhost:8080/",
          "height": 52
        }
      },
      "source": [
        "PCA_comps = 1\n",
        "\n",
        "# load the breast_cancer dataset\n",
        "init_data = load_breast_cancer()\n",
        "(X, y) = load_breast_cancer(return_X_y=True)\n",
        "# X = pd.DataFrame(data=X, columns=init_data['feature_names'])\n",
        "# y = pd.DataFrame(data=y, columns=['label'])\n",
        "\n",
        "# split X into training and testing sets\n",
        "X_train, X_test, y_train, y_test = train_test_split(X, y, test_size=0.3, random_state=0)\n",
        "\n",
        "# PCA on dataset\n",
        "eigen_vals, eigen_vecs, exp_rs = pca(X_train, PCA_comps)\n",
        "X_train_pca = np.dot(X_train, np.array(eigen_vecs).T)\n",
        "X_test_pca = np.dot(X_test, np.array(eigen_vecs).T)\n",
        "\n",
        "# Train a RandomForestClassifier as model \n",
        "forest = RandomForestClassifier(criterion='entropy',\n",
        "                                n_estimators=200, \n",
        "                                random_state=1,\n",
        "                                n_jobs=2)\n",
        "\n",
        "forest.fit(X_train_pca, y_train)\n",
        "\n",
        "y_pred = forest.predict(X_test_pca)\n",
        "print('Accuracy: %.2f' % accuracy_score(y_test, y_pred))\n",
        "print('Accuracy per feature: %.2f' % (accuracy_score(y_test, y_pred)/PCA_comps))"
      ],
      "execution_count": 6,
      "outputs": [
        {
          "output_type": "stream",
          "text": [
            "Accuracy: 0.85\n",
            "Accuracy per feature: 0.85\n"
          ],
          "name": "stdout"
        }
      ]
    }
  ]
}