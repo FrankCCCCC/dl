{
  "nbformat": 4,
  "nbformat_minor": 0,
  "metadata": {
    "accelerator": "GPU",
    "colab": {
      "name": "Lab13-1_106033233.ipynb",
      "provenance": [],
      "collapsed_sections": []
    },
    "kernelspec": {
      "display_name": "Python 3",
      "name": "python3"
    }
  },
  "cells": [
    {
      "cell_type": "code",
      "metadata": {
        "id": "VzDPgbbREhen"
      },
      "source": [
        "# ! cp -r /content/drive/MyDrive/dl/lab13/data ./data"
      ],
      "execution_count": 126,
      "outputs": []
    },
    {
      "cell_type": "code",
      "metadata": {
        "id": "vTcNYXtn7Rhc"
      },
      "source": [
        "import tensorflow as tf\n",
        "import pandas as pdmb\n",
        "import re\n",
        "import numpy as np\n",
        "import pandas as pd\n",
        "import os\n",
        "import time\n",
        "from sklearn.model_selection import train_test_split"
      ],
      "execution_count": 127,
      "outputs": []
    },
    {
      "cell_type": "code",
      "metadata": {
        "colab": {
          "base_uri": "https://localhost:8080/"
        },
        "id": "Dy0vgmoO7aYz",
        "outputId": "308739bb-7b5f-4132-9c2b-44e8d9260830"
      },
      "source": [
        "gpus = tf.config.experimental.list_physical_devices('GPU')\n",
        "if gpus:\n",
        "    try:\n",
        "        # Restrict TensorFlow to only use the first GPU\n",
        "        tf.config.experimental.set_visible_devices(gpus[0], 'GPU')\n",
        "\n",
        "        # Currently, memory growth needs to be the same across GPUs\n",
        "        for gpu in gpus:\n",
        "            tf.config.experimental.set_memory_growth(gpu, True)\n",
        "        logical_gpus = tf.config.experimental.list_logical_devices('GPU')\n",
        "        print(len(gpus), \"Physical GPUs,\", len(logical_gpus), \"Logical GPUs\")\n",
        "    except RuntimeError as e:\n",
        "        # Memory growth must be set before GPUs have been initialized\n",
        "        print(e)"
      ],
      "execution_count": 128,
      "outputs": [
        {
          "output_type": "stream",
          "text": [
            "1 Physical GPUs, 1 Logical GPUs\n"
          ],
          "name": "stdout"
        }
      ]
    },
    {
      "cell_type": "code",
      "metadata": {
        "id": "rhwskXyT7dHZ"
      },
      "source": [
        "# load the dataset\n",
        "movie_reviews = pd.read_csv(\"./data/IMDB Dataset.csv\")"
      ],
      "execution_count": 129,
      "outputs": []
    },
    {
      "cell_type": "code",
      "metadata": {
        "colab": {
          "base_uri": "https://localhost:8080/"
        },
        "id": "ho-w4prh7h9x",
        "outputId": "7693f264-ec95-4233-daa8-4f8449d1cd7c"
      },
      "source": [
        "# check if there is any null value in the dataset\n",
        "movie_reviews.isnull().values.any()"
      ],
      "execution_count": 130,
      "outputs": [
        {
          "output_type": "execute_result",
          "data": {
            "text/plain": [
              "False"
            ]
          },
          "metadata": {
            "tags": []
          },
          "execution_count": 130
        }
      ]
    },
    {
      "cell_type": "code",
      "metadata": {
        "colab": {
          "base_uri": "https://localhost:8080/"
        },
        "id": "czM-UCIF7j9w",
        "outputId": "c9246570-fde6-416c-e8bb-79dc363f3622"
      },
      "source": [
        "# show the size of the dataset\n",
        "movie_reviews.shape"
      ],
      "execution_count": 131,
      "outputs": [
        {
          "output_type": "execute_result",
          "data": {
            "text/plain": [
              "(50000, 2)"
            ]
          },
          "metadata": {
            "tags": []
          },
          "execution_count": 131
        }
      ]
    },
    {
      "cell_type": "code",
      "metadata": {
        "colab": {
          "base_uri": "https://localhost:8080/",
          "height": 202
        },
        "id": "MxVcIFmA7mEF",
        "outputId": "c234ef62-1838-420c-9b6e-88f968b538a3"
      },
      "source": [
        "# show the first five data in the dataset\n",
        "movie_reviews.head()"
      ],
      "execution_count": 132,
      "outputs": [
        {
          "output_type": "execute_result",
          "data": {
            "text/html": [
              "<div>\n",
              "<style scoped>\n",
              "    .dataframe tbody tr th:only-of-type {\n",
              "        vertical-align: middle;\n",
              "    }\n",
              "\n",
              "    .dataframe tbody tr th {\n",
              "        vertical-align: top;\n",
              "    }\n",
              "\n",
              "    .dataframe thead th {\n",
              "        text-align: right;\n",
              "    }\n",
              "</style>\n",
              "<table border=\"1\" class=\"dataframe\">\n",
              "  <thead>\n",
              "    <tr style=\"text-align: right;\">\n",
              "      <th></th>\n",
              "      <th>review</th>\n",
              "      <th>sentiment</th>\n",
              "    </tr>\n",
              "  </thead>\n",
              "  <tbody>\n",
              "    <tr>\n",
              "      <th>0</th>\n",
              "      <td>One of the other reviewers has mentioned that ...</td>\n",
              "      <td>positive</td>\n",
              "    </tr>\n",
              "    <tr>\n",
              "      <th>1</th>\n",
              "      <td>A wonderful little production. &lt;br /&gt;&lt;br /&gt;The...</td>\n",
              "      <td>positive</td>\n",
              "    </tr>\n",
              "    <tr>\n",
              "      <th>2</th>\n",
              "      <td>I thought this was a wonderful way to spend ti...</td>\n",
              "      <td>positive</td>\n",
              "    </tr>\n",
              "    <tr>\n",
              "      <th>3</th>\n",
              "      <td>Basically there's a family where a little boy ...</td>\n",
              "      <td>negative</td>\n",
              "    </tr>\n",
              "    <tr>\n",
              "      <th>4</th>\n",
              "      <td>Petter Mattei's \"Love in the Time of Money\" is...</td>\n",
              "      <td>positive</td>\n",
              "    </tr>\n",
              "  </tbody>\n",
              "</table>\n",
              "</div>"
            ],
            "text/plain": [
              "                                              review sentiment\n",
              "0  One of the other reviewers has mentioned that ...  positive\n",
              "1  A wonderful little production. <br /><br />The...  positive\n",
              "2  I thought this was a wonderful way to spend ti...  positive\n",
              "3  Basically there's a family where a little boy ...  negative\n",
              "4  Petter Mattei's \"Love in the Time of Money\" is...  positive"
            ]
          },
          "metadata": {
            "tags": []
          },
          "execution_count": 132
        }
      ]
    },
    {
      "cell_type": "code",
      "metadata": {
        "colab": {
          "base_uri": "https://localhost:8080/",
          "height": 139
        },
        "id": "5BYuuJOm7ofU",
        "outputId": "95bca218-6867-42ba-a844-480955b6062d"
      },
      "source": [
        "movie_reviews[\"review\"][0]"
      ],
      "execution_count": 133,
      "outputs": [
        {
          "output_type": "execute_result",
          "data": {
            "application/vnd.google.colaboratory.intrinsic+json": {
              "type": "string"
            },
            "text/plain": [
              "\"One of the other reviewers has mentioned that after watching just 1 Oz episode you'll be hooked. They are right, as this is exactly what happened with me.<br /><br />The first thing that struck me about Oz was its brutality and unflinching scenes of violence, which set in right from the word GO. Trust me, this is not a show for the faint hearted or timid. This show pulls no punches with regards to drugs, sex or violence. Its is hardcore, in the classic use of the word.<br /><br />It is called OZ as that is the nickname given to the Oswald Maximum Security State Penitentary. It focuses mainly on Emerald City, an experimental section of the prison where all the cells have glass fronts and face inwards, so privacy is not high on the agenda. Em City is home to many..Aryans, Muslims, gangstas, Latinos, Christians, Italians, Irish and more....so scuffles, death stares, dodgy dealings and shady agreements are never far away.<br /><br />I would say the main appeal of the show is due to the fact that it goes where other shows wouldn't dare. Forget pretty pictures painted for mainstream audiences, forget charm, forget romance...OZ doesn't mess around. The first episode I ever saw struck me as so nasty it was surreal, I couldn't say I was ready for it, but as I watched more, I developed a taste for Oz, and got accustomed to the high levels of graphic violence. Not just violence, but injustice (crooked guards who'll be sold out for a nickel, inmates who'll kill on order and get away with it, well mannered, middle class inmates being turned into prison bitches due to their lack of street skills or prison experience) Watching Oz, you may become comfortable with what is uncomfortable viewing....thats if you can get in touch with your darker side.\""
            ]
          },
          "metadata": {
            "tags": []
          },
          "execution_count": 133
        }
      ]
    },
    {
      "cell_type": "code",
      "metadata": {
        "id": "wiKP3Kng7q1E"
      },
      "source": [
        "TAG_RE = re.compile(r'<[^>]+>')\n",
        "\n",
        "def remove_tags(text):\n",
        "    return TAG_RE.sub('', text)\n",
        "\n",
        "def preprocess_text(sen):\n",
        "    # Removing html tags\n",
        "    sentence = remove_tags(sen)\n",
        "\n",
        "    # Remove punctuations and numbers\n",
        "    sentence = re.sub('[^a-zA-Z]', ' ', sentence)\n",
        "\n",
        "    # Single character removal\n",
        "    sentence = re.sub(r\"\\s+[a-zA-Z]\\s+\", ' ', sentence)\n",
        "\n",
        "    # Removing multiple spaces\n",
        "    sentence = re.sub(r'\\s+', ' ', sentence)\n",
        "\n",
        "    return sentence"
      ],
      "execution_count": 134,
      "outputs": []
    },
    {
      "cell_type": "code",
      "metadata": {
        "id": "H3r6Mzah7szi"
      },
      "source": [
        "X = []\n",
        "sentences = list(movie_reviews['review'])\n",
        "for sen in sentences:\n",
        "    X.append(preprocess_text(sen))\n",
        "\n",
        "# replace the positive with 1, replace the negative with 0\n",
        "y = movie_reviews['sentiment']\n",
        "y = np.array(list(map(lambda x: 1 if x == \"positive\" else 0, y)))"
      ],
      "execution_count": 135,
      "outputs": []
    },
    {
      "cell_type": "code",
      "metadata": {
        "colab": {
          "base_uri": "https://localhost:8080/"
        },
        "id": "x2g3MXpL7vfM",
        "outputId": "a5fb1caf-4706-495c-dc57-9ae0a2025848"
      },
      "source": [
        "# Split the training dataset and test dataset\n",
        "X_train, X_test, y_train, y_test = train_test_split(X, y, test_size=0.20, random_state=42)\n",
        "print(\"# training data: {:d}\\n# test data: {:d}\".format(len(X_train), len(X_test)))"
      ],
      "execution_count": 136,
      "outputs": [
        {
          "output_type": "stream",
          "text": [
            "# training data: 40000\n",
            "# test data: 10000\n"
          ],
          "name": "stdout"
        }
      ]
    },
    {
      "cell_type": "code",
      "metadata": {
        "id": "1WIaInt17462"
      },
      "source": [
        "tokenizer = tf.keras.preprocessing.text.Tokenizer(num_words=10000)\n",
        "tokenizer.fit_on_texts(X_train)\n",
        "\n",
        "X_train = tokenizer.texts_to_sequences(X_train)\n",
        "X_test = tokenizer.texts_to_sequences(X_test)\n",
        "\n",
        "max_len = 100\n",
        "# padding sentences to the same length\n",
        "X_train = tf.keras.preprocessing.sequence.pad_sequences(X_train, padding='post', maxlen=max_len)\n",
        "X_test = tf.keras.preprocessing.sequence.pad_sequences(X_test, padding='post', maxlen=max_len)"
      ],
      "execution_count": 137,
      "outputs": []
    },
    {
      "cell_type": "code",
      "metadata": {
        "colab": {
          "base_uri": "https://localhost:8080/"
        },
        "id": "P_B2eUoR7661",
        "outputId": "ae9383af-6585-4cb2-bf16-1e7581c055ba"
      },
      "source": [
        "# show the preprocessed data\n",
        "X_train[0]"
      ],
      "execution_count": 138,
      "outputs": [
        {
          "output_type": "execute_result",
          "data": {
            "text/plain": [
              "array([   1,  296,  140, 2854,    2,  405,  614,    1,  263,    5, 3514,\n",
              "        977,    4,   25,   37,   11, 1237,  215,   62,    2,   35,    5,\n",
              "         27,  217,   24,  189, 1430,    7, 1068,   15, 4868,   81,    1,\n",
              "        221,   63,  351,   64,   52,   24,    4, 3547,   13,    6,   19,\n",
              "        192,    4, 8148,  859, 3430, 1720,   17,   23,    4,  158,  194,\n",
              "        175,  106,    9, 1604,  461,   71,  218,    4,  321,    2, 3431,\n",
              "         31,   20,   47,   68, 1844, 4668,   11,    6, 1365,    8,   16,\n",
              "          5, 3475, 1990,   14,   59,    1, 2380,  460,  518,    2,  170,\n",
              "       2524, 2698, 1745,    4,  573,    6,   33,    1, 3750,  198,  345,\n",
              "       3812], dtype=int32)"
            ]
          },
          "metadata": {
            "tags": []
          },
          "execution_count": 138
        }
      ]
    },
    {
      "cell_type": "code",
      "metadata": {
        "colab": {
          "base_uri": "https://localhost:8080/"
        },
        "id": "5jDQGMfX79F9",
        "outputId": "55886e7d-0d8f-4fa9-c434-4da10751df34"
      },
      "source": [
        "BUFFER_SIZE = len(X_train)\n",
        "BATCH_SIZE = 128\n",
        "steps_per_epoch = len(X_train)//BATCH_SIZE\n",
        "embedding_dim = 256\n",
        "units = 1024\n",
        "# only reserve 10000 words\n",
        "vocab_size = 10000\n",
        "\n",
        "dataset = tf.data.Dataset.from_tensor_slices((X_train, y_train)).shuffle(BUFFER_SIZE)\n",
        "dataset = dataset.batch(BATCH_SIZE, drop_remainder=True)\n",
        "test_dataset = tf.data.Dataset.from_tensor_slices((X_test, y_test))\n",
        "test_dataset = test_dataset.batch(BATCH_SIZE, drop_remainder=False)\n",
        "\n",
        "example_input_batch, example_target_batch = next(iter(dataset))\n",
        "example_input_batch.shape, example_target_batch.shape"
      ],
      "execution_count": 139,
      "outputs": [
        {
          "output_type": "execute_result",
          "data": {
            "text/plain": [
              "(TensorShape([128, 100]), TensorShape([128]))"
            ]
          },
          "metadata": {
            "tags": []
          },
          "execution_count": 139
        }
      ]
    },
    {
      "cell_type": "code",
      "metadata": {
        "id": "KTz0GJJo8B6x"
      },
      "source": [
        "class Encoder(tf.keras.Model):\n",
        "    def __init__(self, vocab_size, embedding_dim, enc_units, batch_sz):\n",
        "        # vacab_size=10000, embedding_dim=256 enc_units=1024 batch_sz=64\n",
        "        super(Encoder, self).__init__()\n",
        "        self.batch_sz = batch_sz\n",
        "        self.enc_units = enc_units\n",
        "        self.embedding = tf.keras.layers.Embedding(vocab_size, embedding_dim)\n",
        "        self.gru = tf.keras.layers.GRU(self.enc_units,\n",
        "                                       return_sequences=True,\n",
        "                                       return_state=True,\n",
        "                                       recurrent_activation='sigmoid',\n",
        "                                       recurrent_initializer='glorot_uniform')\n",
        "\n",
        "    def call(self, x, hidden):\n",
        "        # x is the training data with shape == (batch_size，max_length)  -> (128, 100)\n",
        "        # which means there are batch_size sentences in one batch, the length of each sentence is max_length\n",
        "        # hidden state shape == (batch_size, units) -> (128, 1024)\n",
        "        # after embedding, x shape == (batch_size, max_length, embedding_dim) -> (128, 100, 256)\n",
        "        x = self.embedding(x)\n",
        "        \n",
        "        # output contains the state(in GRU, the hidden state and the output are same) from all timestamps,\n",
        "        # output shape == (batch_size, max_length, units) -> (128, 100, 1024)\n",
        "        # state is the hidden state of the last timestamp, shape == (batch_size, units) -> (128, 1024)\n",
        "        output, state = self.gru(x, initial_state=hidden)\n",
        "        \n",
        "        return output, state\n",
        "\n",
        "    def initialize_hidden_state(self):\n",
        "        # initialize the first state of the gru,  shape == (batch_size, units) -> (128, 1024)\n",
        "        return tf.zeros((self.batch_sz, self.enc_units))"
      ],
      "execution_count": 140,
      "outputs": []
    },
    {
      "cell_type": "code",
      "metadata": {
        "colab": {
          "base_uri": "https://localhost:8080/"
        },
        "id": "00XAcvkq8Dxb",
        "outputId": "c7f1885d-3f8b-446d-80dd-424fc1ff554b"
      },
      "source": [
        "encoder = Encoder(vocab_size, embedding_dim, units, BATCH_SIZE)\n",
        "\n",
        "# sample input\n",
        "sample_hidden = encoder.initialize_hidden_state()\n",
        "sample_output, sample_hidden = encoder(example_input_batch, sample_hidden)\n",
        "print('Encoder output shape: (batch size, sequence length, units) {}'.format(sample_output.shape))\n",
        "print('Encoder Hidden state shape: (batch size, units) {}'.format(sample_hidden.shape))\n",
        "# the output and the hidden state of GRU is equal\n",
        "print(sample_output[-1, -1, :] == sample_hidden[-1, :])"
      ],
      "execution_count": 141,
      "outputs": [
        {
          "output_type": "stream",
          "text": [
            "Encoder output shape: (batch size, sequence length, units) (128, 100, 1024)\n",
            "Encoder Hidden state shape: (batch size, units) (128, 1024)\n",
            "tf.Tensor([ True  True  True ...  True  True  True], shape=(1024,), dtype=bool)\n"
          ],
          "name": "stdout"
        }
      ]
    },
    {
      "cell_type": "markdown",
      "metadata": {
        "id": "t3ioXf4h8H3A"
      },
      "source": [
        "# TODO: Loung Attention"
      ]
    },
    {
      "cell_type": "code",
      "metadata": {
        "id": "BFciPDUy8Fng"
      },
      "source": [
        "class LuongAttention(tf.keras.Model):\n",
        "    def __init__(self, units):\n",
        "        super(LuongAttention, self).__init__()\n",
        "        self.w = tf.keras.layers.Dense(units)\n",
        "\n",
        "    def call(self, query, values):\n",
        "        # query shape == (batch_size, hidden size)\n",
        "        # hidden_with_time_axis shape == (batch_size, 1, hidden size)\n",
        "        # we are doing this to perform addition to calculate the score\n",
        "        hidden_with_time_axis = tf.expand_dims(query, 1)\n",
        "\n",
        "        # score shape == (batch_size, max_length, 1)\n",
        "        # the shape of the tensor before applying self.V is (batch_size, max_length, units)\n",
        "        # print(f\"Reduce: {tf.expand_dims(tf.math.reduce_mean(values * self.w(hidden_with_time_axis), axis=2), 2).shape}\")\n",
        "        # print(f\"Score: {(values * self.w(hidden_with_time_axis)).shape}\")\n",
        "        # Reduce all the weights on \"units\" and calculate score\n",
        "        score = tf.expand_dims(tf.math.reduce_mean(values * self.w(hidden_with_time_axis), axis=2), 2)\n",
        "\n",
        "        # attention_weights shape == (batch_size, max_length, 1)\n",
        "        attention_weights = tf.nn.softmax(score, axis=1)\n",
        "\n",
        "        # context_vector shape == (batch_size, max_length, hidden_size)\n",
        "        context_vector = attention_weights * values\n",
        "        \n",
        "        # context_vector shape after sum == (batch_size, hidden_size)\n",
        "        context_vector = tf.reduce_sum(context_vector, axis=1)\n",
        "\n",
        "        return context_vector, attention_weights"
      ],
      "execution_count": 142,
      "outputs": []
    },
    {
      "cell_type": "code",
      "metadata": {
        "id": "RRVN9AXZDud0"
      },
      "source": [
        "class Decoder(tf.keras.Model):\n",
        "    def __init__(self, dec_units, batch_sz):\n",
        "        super(Decoder, self).__init__()\n",
        "        self.batch_sz = batch_sz\n",
        "        self.dec_units = dec_units\n",
        "        \n",
        "        # pass through four fully connected layers, the model will return \n",
        "        # the probability of the positivity of the sentence\n",
        "        self.fc_1 = tf.keras.layers.Dense(2048)\n",
        "        self.fc_2 = tf.keras.layers.Dense(512)\n",
        "        self.fc_3 = tf.keras.layers.Dense(64)\n",
        "        self.fc_4 = tf.keras.layers.Dense(1)\n",
        "\n",
        "        # used for attention\n",
        "        self.attention = LuongAttention(self.dec_units)\n",
        "\n",
        "    def call(self, hidden, enc_output):\n",
        "        context_vector, attention_weights = self.attention(hidden, enc_output)\n",
        "        output = self.fc_1(context_vector)\n",
        "        output = self.fc_2(output)\n",
        "        output = self.fc_3(output)\n",
        "        output = self.fc_4(output)\n",
        "\n",
        "        return output, attention_weights"
      ],
      "execution_count": 143,
      "outputs": []
    },
    {
      "cell_type": "code",
      "metadata": {
        "colab": {
          "base_uri": "https://localhost:8080/"
        },
        "id": "iaybCqkB8GhC",
        "outputId": "cffc2dfa-73c8-4488-87e3-1f75d42b5293"
      },
      "source": [
        "decoder = Decoder(units, BATCH_SIZE)\n",
        "sample_decoder_output, _ = decoder(sample_hidden, sample_output)\n",
        "print('Decoder output shape: (batch_size, vocab size) {}'.format(sample_decoder_output.shape))"
      ],
      "execution_count": 144,
      "outputs": [
        {
          "output_type": "stream",
          "text": [
            "Decoder output shape: (batch_size, vocab size) (128, 1)\n"
          ],
          "name": "stdout"
        }
      ]
    },
    {
      "cell_type": "code",
      "metadata": {
        "id": "1ASG7Ax08S2G"
      },
      "source": [
        "optimizer = tf.keras.optimizers.Adam()\n",
        "loss_object = tf.keras.losses.BinaryCrossentropy(from_logits=True)\n",
        "\n",
        "def loss_function(real, pred):\n",
        "    loss_ = loss_object(real, pred)\n",
        "    return tf.reduce_mean(loss_)"
      ],
      "execution_count": 145,
      "outputs": []
    },
    {
      "cell_type": "code",
      "metadata": {
        "id": "o2fz9LQX8Uvq"
      },
      "source": [
        "checkpoint_dir = './checkpoints/sentiment-analysis'\n",
        "checkpoint_prefix = os.path.join(checkpoint_dir, \"ckpt\")\n",
        "checkpoint = tf.train.Checkpoint(optimizer=optimizer,\n",
        "                                 encoder=encoder,\n",
        "                                 decoder=decoder)"
      ],
      "execution_count": 146,
      "outputs": []
    },
    {
      "cell_type": "code",
      "metadata": {
        "id": "BARFKbGp8XRT"
      },
      "source": [
        "@tf.function\n",
        "def train_step(inp, targ, enc_hidden):\n",
        "    loss = 0\n",
        "\n",
        "    with tf.GradientTape() as tape:\n",
        "        enc_output, enc_hidden = encoder(inp, enc_hidden)\n",
        "\n",
        "        # passing enc_output to the decoder\n",
        "        predictions, _ = decoder(enc_hidden, enc_output)\n",
        "\n",
        "        loss = loss_function(targ, predictions)\n",
        "\n",
        "    # collect all trainable variables\n",
        "    variables = encoder.trainable_variables + decoder.trainable_variables\n",
        "\n",
        "    # calculate the gradients for the whole variables\n",
        "    gradients = tape.gradient(loss, variables)\n",
        "\n",
        "    # apply the gradients on the variables\n",
        "    optimizer.apply_gradients(zip(gradients, variables))\n",
        "\n",
        "    return loss"
      ],
      "execution_count": 147,
      "outputs": []
    },
    {
      "cell_type": "code",
      "metadata": {
        "colab": {
          "base_uri": "https://localhost:8080/"
        },
        "id": "4jIcxY108bXL",
        "outputId": "6e81f7fd-89e6-48fa-8a9e-b220cc4bee54"
      },
      "source": [
        "# set the epochs for training\n",
        "EPOCHS = 10\n",
        "\n",
        "for epoch in range(EPOCHS):\n",
        "    start = time.time()\n",
        "\n",
        "    # get the initial hidden state of gru\n",
        "    enc_hidden = encoder.initialize_hidden_state()\n",
        "    total_loss = 0\n",
        "\n",
        "    for (batch, (inp, targ)) in enumerate(dataset.take(steps_per_epoch)):\n",
        "        batch_loss = train_step(inp, targ, enc_hidden)\n",
        "        total_loss += batch_loss\n",
        "\n",
        "        if batch % 100 == 0:\n",
        "            print('Epoch {} Batch {} Loss {:.4f}'.format(epoch + 1,\n",
        "                                                         batch,\n",
        "                                                         batch_loss.numpy()))\n",
        "\n",
        "    # saving (checkpoint) the model every 2 epochs\n",
        "    if (epoch + 1) % 2 == 0:\n",
        "        checkpoint.save(file_prefix=checkpoint_prefix)\n",
        "\n",
        "    print('Epoch {} Loss {:.4f}'.format(epoch + 1,\n",
        "                                        total_loss / steps_per_epoch))\n",
        "    print('Time taken for 1 epoch {} sec\\n'.format(time.time() - start))"
      ],
      "execution_count": 148,
      "outputs": [
        {
          "output_type": "stream",
          "text": [
            "Epoch 1 Batch 0 Loss 0.6933\n",
            "Epoch 1 Batch 100 Loss 0.3151\n",
            "Epoch 1 Batch 200 Loss 0.3350\n",
            "Epoch 1 Batch 300 Loss 0.3406\n",
            "Epoch 1 Loss 0.3785\n",
            "Time taken for 1 epoch 39.69557785987854 sec\n",
            "\n",
            "Epoch 2 Batch 0 Loss 0.2361\n",
            "Epoch 2 Batch 100 Loss 0.2002\n",
            "Epoch 2 Batch 200 Loss 0.2530\n",
            "Epoch 2 Batch 300 Loss 0.2644\n",
            "Epoch 2 Loss 0.2610\n",
            "Time taken for 1 epoch 37.55386686325073 sec\n",
            "\n",
            "Epoch 3 Batch 0 Loss 0.1813\n",
            "Epoch 3 Batch 100 Loss 0.1386\n",
            "Epoch 3 Batch 200 Loss 0.2296\n",
            "Epoch 3 Batch 300 Loss 0.1439\n",
            "Epoch 3 Loss 0.2095\n",
            "Time taken for 1 epoch 37.71405386924744 sec\n",
            "\n",
            "Epoch 4 Batch 0 Loss 0.1591\n",
            "Epoch 4 Batch 100 Loss 0.1615\n",
            "Epoch 4 Batch 200 Loss 0.2244\n",
            "Epoch 4 Batch 300 Loss 0.1545\n",
            "Epoch 4 Loss 0.1493\n",
            "Time taken for 1 epoch 37.9056191444397 sec\n",
            "\n",
            "Epoch 5 Batch 0 Loss 0.0697\n",
            "Epoch 5 Batch 100 Loss 0.1544\n",
            "Epoch 5 Batch 200 Loss 0.1356\n",
            "Epoch 5 Batch 300 Loss 0.0537\n",
            "Epoch 5 Loss 0.0961\n",
            "Time taken for 1 epoch 37.52538013458252 sec\n",
            "\n",
            "Epoch 6 Batch 0 Loss 0.0409\n",
            "Epoch 6 Batch 100 Loss 0.0350\n",
            "Epoch 6 Batch 200 Loss 0.0385\n",
            "Epoch 6 Batch 300 Loss 0.0931\n",
            "Epoch 6 Loss 0.0558\n",
            "Time taken for 1 epoch 37.70099592208862 sec\n",
            "\n",
            "Epoch 7 Batch 0 Loss 0.0126\n",
            "Epoch 7 Batch 100 Loss 0.0207\n",
            "Epoch 7 Batch 200 Loss 0.0123\n",
            "Epoch 7 Batch 300 Loss 0.0349\n",
            "Epoch 7 Loss 0.0401\n",
            "Time taken for 1 epoch 37.52626037597656 sec\n",
            "\n",
            "Epoch 8 Batch 0 Loss 0.0166\n",
            "Epoch 8 Batch 100 Loss 0.0207\n",
            "Epoch 8 Batch 200 Loss 0.0436\n",
            "Epoch 8 Batch 300 Loss 0.0869\n",
            "Epoch 8 Loss 0.0308\n",
            "Time taken for 1 epoch 37.54030203819275 sec\n",
            "\n",
            "Epoch 9 Batch 0 Loss 0.0037\n",
            "Epoch 9 Batch 100 Loss 0.0151\n",
            "Epoch 9 Batch 200 Loss 0.0236\n",
            "Epoch 9 Batch 300 Loss 0.0070\n",
            "Epoch 9 Loss 0.0267\n",
            "Time taken for 1 epoch 37.21866583824158 sec\n",
            "\n",
            "Epoch 10 Batch 0 Loss 0.0073\n",
            "Epoch 10 Batch 100 Loss 0.0876\n",
            "Epoch 10 Batch 200 Loss 0.0080\n",
            "Epoch 10 Batch 300 Loss 0.0101\n",
            "Epoch 10 Loss 0.0218\n",
            "Time taken for 1 epoch 37.54756212234497 sec\n",
            "\n"
          ],
          "name": "stdout"
        }
      ]
    },
    {
      "cell_type": "code",
      "metadata": {
        "colab": {
          "base_uri": "https://localhost:8080/"
        },
        "id": "GoozSr6i8lzL",
        "outputId": "8f7dd5e6-59bb-4b7e-ccc3-81f26e6bc084"
      },
      "source": [
        "print(tf.train.latest_checkpoint(checkpoint_dir))\n",
        "# restoring the latest checkpoint in checkpoint_dir\n",
        "checkpoint.restore(tf.train.latest_checkpoint(checkpoint_dir))"
      ],
      "execution_count": 149,
      "outputs": [
        {
          "output_type": "stream",
          "text": [
            "./checkpoints/sentiment-analysis/ckpt-5\n"
          ],
          "name": "stdout"
        },
        {
          "output_type": "execute_result",
          "data": {
            "text/plain": [
              "<tensorflow.python.training.tracking.util.CheckpointLoadStatus at 0x7efe59d8ffd0>"
            ]
          },
          "metadata": {
            "tags": []
          },
          "execution_count": 149
        }
      ]
    },
    {
      "cell_type": "code",
      "metadata": {
        "id": "qLcxKDsP8qYo"
      },
      "source": [
        "def test_step(inp, enc_hidden):\n",
        "    with tf.GradientTape() as tape:\n",
        "        enc_output, enc_hidden = encoder(inp, enc_hidden)\n",
        "        predictions, attention_weights = decoder(enc_hidden, enc_output)\n",
        "    return predictions, attention_weights"
      ],
      "execution_count": 150,
      "outputs": []
    },
    {
      "cell_type": "code",
      "metadata": {
        "id": "ejUAMIWz8std"
      },
      "source": [
        "def evaluate(test_data):\n",
        "    enc_hidden = encoder.initialize_hidden_state()\n",
        "    \n",
        "    for batch, (inp, targ) in enumerate(test_data):\n",
        "        if len(inp) != BATCH_SIZE:\n",
        "            enc_hidden = tf.zeros((len(inp), units))\n",
        "        # make prediction\n",
        "        if batch == 0:\n",
        "            predictions, attention_weights = test_step(inp, enc_hidden)\n",
        "            predictions, attention_weights = predictions.numpy(), attention_weights.numpy()\n",
        "        else:\n",
        "            _predictions, _attention_weights = test_step(inp, enc_hidden)\n",
        "            _predictions, _attention_weights = _predictions.numpy(), _attention_weights.numpy()\n",
        "            predictions = np.concatenate((predictions, _predictions))\n",
        "            attention_weights = np.concatenate((attention_weights, _attention_weights))\n",
        "    \n",
        "    predictions = np.squeeze(predictions)\n",
        "    attention_weights = np.squeeze(attention_weights)\n",
        "    predictions[np.where(predictions < 0.5)] = 0\n",
        "    predictions[np.where(predictions >= 0.5)] = 1\n",
        "    return predictions, attention_weights"
      ],
      "execution_count": 151,
      "outputs": []
    },
    {
      "cell_type": "code",
      "metadata": {
        "id": "CYi3SWld8uhm"
      },
      "source": [
        "y_pred, attention_weights = evaluate(test_dataset)"
      ],
      "execution_count": 152,
      "outputs": []
    },
    {
      "cell_type": "code",
      "metadata": {
        "id": "MSVE1Aey8wgi",
        "colab": {
          "base_uri": "https://localhost:8080/"
        },
        "outputId": "0863bac2-c488-4b1c-8eb8-8520d08d7dfb"
      },
      "source": [
        "print('Accuracy: ', (y_pred == y_test).sum() / len(y_test))"
      ],
      "execution_count": 153,
      "outputs": [
        {
          "output_type": "stream",
          "text": [
            "Accuracy:  0.8478\n"
          ],
          "name": "stdout"
        }
      ]
    },
    {
      "cell_type": "code",
      "metadata": {
        "id": "ySiFvaZO8zSC",
        "colab": {
          "base_uri": "https://localhost:8080/"
        },
        "outputId": "038c9633-f116-470a-ee77-1317d6338518"
      },
      "source": [
        "from termcolor import colored\n",
        "for idx, data in enumerate(X_test[:10]):\n",
        "    print('y_true: {:d}'.format(y_test[idx]))\n",
        "    print('y_predict: {:.0f}'.format(y_pred[idx]))\n",
        "    # print(f\"Attention Weights: {attention_weights.shape}\")\n",
        "    # s = tf.math.reduce_mean(attention_weights[idx], axis=1)\n",
        "    # print(s)\n",
        "    \n",
        "    # get the 10 most largest attention weights\n",
        "    # large_weights_idx = np.argsort(s)[::-1][:10]\n",
        "    large_weights_idx = np.argsort(attention_weights[idx])[::-1][:10]\n",
        "    # print(f\"Large Weights Idx {large_weights_idx.shape}\")\n",
        "    \n",
        "    for _idx in range(len(data)):\n",
        "        word_idx = data[_idx]\n",
        "        # print(f\"_idx: {_idx}\")\n",
        "        # print(f\"{word_idx}\")\n",
        "        if word_idx != 0:\n",
        "            if _idx in large_weights_idx:\n",
        "                print(colored(tokenizer.index_word[word_idx], 'red'), end=' ')\n",
        "            else:\n",
        "                print(tokenizer.index_word[word_idx], end=' ')\n",
        "    print(\"\\n\\n\")"
      ],
      "execution_count": 154,
      "outputs": [
        {
          "output_type": "stream",
          "text": [
            "y_true: 1\n",
            "y_predict: 0\n",
            "\u001b[31mchanged\u001b[0m it was \u001b[31mterrible\u001b[0m main event just like every match is in is \u001b[31mterrible\u001b[0m other \u001b[31mmatches\u001b[0m on the card were razor ramon vs ted brothers vs bodies shawn michaels vs this was the event where shawn named his big monster of body guard vs \u001b[31mkid\u001b[0m hart first takes on then takes on jerry and stuff with the and was always very interesting then destroyed marty undertaker took on giant in another \u001b[31mterrible\u001b[0m match the \u001b[31msmoking\u001b[0m and took on bam bam and the and the world \u001b[31mtitle\u001b[0m against lex this match was \u001b[31mboring\u001b[0m and it has \u001b[31mterrible\u001b[0m ending however it deserves \n",
            "\n",
            "\n",
            "y_true: 1\n",
            "y_predict: 1\n",
            "of subject matter as are and \u001b[31mbroken\u001b[0m in many ways on many many issues happened to see the \u001b[31mpilot\u001b[0m premiere in passing and just had to keep in after that to see if would ever get the girl \u001b[31mafter\u001b[0m seeing them all on television \u001b[31mwas\u001b[0m delighted to see them available on dvd have to admit that it was the \u001b[31monly\u001b[0m \u001b[31mthing\u001b[0m that kept me sane whilst had to do hour night shift and developed \u001b[31minsomnia\u001b[0m farscape was the \u001b[31monly\u001b[0m \u001b[31mthing\u001b[0m to get me through those extremely long nights do yourself favour watch the pilot and see what mean farscape \u001b[31mcomet\u001b[0m \n",
            "\n",
            "\n",
            "y_true: 0\n",
            "y_predict: 0\n",
            "destruction the first \u001b[31mreally\u001b[0m bad thing is the guy steven seagal would have been beaten to pulp by seagal driving but that probably would have ended the whole premise for the movie \u001b[31mit\u001b[0m seems like they decided to make all kinds \u001b[31mof\u001b[0m \u001b[31mchanges\u001b[0m in the movie \u001b[31mplot\u001b[0m \u001b[31mso\u001b[0m just plan to enjoy the action and do not expect coherent plot turn any sense of logic you may have it \u001b[31mwill\u001b[0m your chance of getting headache does give me some \u001b[31mhope\u001b[0m that steven seagal is trying to move \u001b[31mback\u001b[0m towards the type of characters he portrayed in his more popular \u001b[31mmovies\u001b[0m \n",
            "\n",
            "\n",
            "y_true: 1\n",
            "y_predict: 1\n",
            "jane austen would definitely of this one \u001b[31mpaltrow\u001b[0m \u001b[31mdoes\u001b[0m an awesome job capturing the attitude of \u001b[31memma\u001b[0m she is funny without being \u001b[31msilly\u001b[0m yet elegant she puts on very convincing british \u001b[31maccent\u001b[0m not being british \u001b[31mmyself\u001b[0m maybe m not the best judge but she fooled me she was also excellent in doors sometimes forget she american also brilliant are \u001b[31mjeremy\u001b[0m northam and sophie thompson and law \u001b[31memma\u001b[0m \u001b[31mthompson\u001b[0m sister and mother as the bates women they nearly steal the show and \u001b[31mms\u001b[0m law doesn even have any lines highly recommended \n",
            "\n",
            "\n",
            "y_true: 0\n",
            "y_predict: 0\n",
            "reaches the point where they become \u001b[31mobnoxious\u001b[0m and simply \u001b[31mfrustrating\u001b[0m touch football puzzle family and talent shows are not how actual people behave it almost \u001b[31msickening\u001b[0m another big flaw is the woman carell is \u001b[31msupposed\u001b[0m to be \u001b[31mfalling\u001b[0m for her in her first scene with steve carell is like watching stroke victim trying to be what imagine is \u001b[31msupposed\u001b[0m to be unique and original in this \u001b[31mwoman\u001b[0m comes off as \u001b[31mmildly\u001b[0m \u001b[31mretarded\u001b[0m it makes me think that this movie is taking place on another planet left the theater wondering what just saw after thinking further \u001b[31mdon\u001b[0m think it was much \n",
            "\n",
            "\n",
            "y_true: 1\n",
            "y_predict: 1\n",
            "the pace \u001b[31mquick\u001b[0m and energetic but \u001b[31mmost\u001b[0m importantly he knows how to make comedy funny he doesn the jokes and he understands that funny actors know what they re doing and he allows them to do it but segal goes step \u001b[31mfurther\u001b[0m he \u001b[31mgives\u001b[0m tommy boy \u001b[31mfriendly\u001b[0m almost nostalgic tone that both the genuinely and the critics didn like tommy boy shame on them movie doesn have to be super sophisticated or intellectual to be funny god \u001b[31mfarley\u001b[0m \u001b[31mand\u001b[0m spade were forced to do muted comedy la the office this \u001b[31mis\u001b[0m \u001b[31mgreat\u001b[0m movie and one of my all time \u001b[31mfavorites\u001b[0m \n",
            "\n",
            "\n",
            "y_true: 1\n",
            "y_predict: 1\n",
            "for once story of hope over the tragic reality our \u001b[31myouth\u001b[0m face rising draws one into scary and unfair world and shows \u001b[31mthrough\u001b[0m beautiful color and moving music how \u001b[31mone\u001b[0m man and his dedicated friends \u001b[31mchoose\u001b[0m \u001b[31mnot\u001b[0m \u001b[31mto\u001b[0m accept that world and change it through action and art an entertaining interesting emotional beautiful film showed this film to numerous \u001b[31mhigh\u001b[0m \u001b[31mschool\u001b[0m students as well who all live in with poverty and and \u001b[31mgun\u001b[0m violence and they were with anderson the protagonist recommend this film to all ages \u001b[31mover\u001b[0m due to subtitles and some images of death from all backgrounds \n",
            "\n",
            "\n",
            "y_true: 1\n",
            "y_predict: 0\n",
            "people and sleeping around that he \u001b[31mkept\u001b[0m secret from most people he feels free to have an affair with quasi because he kevin he figures out that he can fool some people with cards like hotel \u001b[31mbut\u001b[0m \u001b[31mit\u001b[0m won get \u001b[31mhim\u001b[0m out of those the of heaven are keeping track of him and everything he does after reading all the \u001b[31mtheories\u001b[0m on though it seems like \u001b[31midentity\u001b[0m \u001b[31mis\u001b[0m reminder of the \u001b[31mdifferent\u001b[0m \u001b[31mpaths\u001b[0m \u001b[31mtony\u001b[0m could ve taken in his life possibly along with the car joke involving that made no sense to me otherwise at that point my brain out \n",
            "\n",
            "\n",
            "y_true: 0\n",
            "y_predict: 1\n",
            "over again can remember how many times he said the universe is made out of tiny little strings it like they were \u001b[31mtrying\u001b[0m to us into \u001b[31mjust\u001b[0m accepting are the best thing since bread finally the show ended off with an \u001b[31munpleasant\u001b[0m \u001b[31msense\u001b[0m \u001b[31mof\u001b[0m competition between and clearly biased towards this is \u001b[31msupposed\u001b[0m to be an \u001b[31meducational\u001b[0m \u001b[31mprogram\u001b[0m about \u001b[31mquantum\u001b[0m physics not about whether the us is better than europe or vice versa also felt that was part of the audiences need to see some conflict to remain interested please give me \u001b[31mlittle\u001b[0m more credit than that overall thumbs down \n",
            "\n",
            "\n",
            "y_true: 0\n",
            "y_predict: 0\n",
            "the scenes involving joe character in particular the scenes in the terribly clich but \u001b[31mstill\u001b[0m \u001b[31mfunny\u001b[0m rich but screwed up characters house where the story towards it final moments can see how was \u001b[31mgreat\u001b[0m stage play and while the film makers did their \u001b[31mbest\u001b[0m to translate this to celluloid it simply didn work and while laughed out loud at some of scenes and one \u001b[31mliners\u001b[0m think the first minutes my senses and expectations to \u001b[31msuch\u001b[0m \u001b[31mdegree\u001b[0m would have laughed at anything unless you re stuck for \u001b[31mnovelty\u001b[0m \u001b[31mcoffee\u001b[0m \u001b[31mcoaster\u001b[0m don pick this up if you see it in bargain bucket \n",
            "\n",
            "\n"
          ],
          "name": "stdout"
        }
      ]
    },
    {
      "cell_type": "code",
      "metadata": {
        "id": "m1XQw3CAGrkE"
      },
      "source": [
        ""
      ],
      "execution_count": 154,
      "outputs": []
    }
  ]
}