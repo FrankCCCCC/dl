{
 "cells": [
  {
   "cell_type": "code",
   "execution_count": 1,
   "metadata": {},
   "outputs": [],
   "source": [
    "# Setup\n",
    "# !pip install git+git://github.com/ntasfi/PyGame-Learning-Environment\n",
    "# !pip install pygame moviepy"
   ]
  },
  {
   "cell_type": "code",
   "execution_count": 2,
   "metadata": {},
   "outputs": [
    {
     "name": "stdout",
     "output_type": "stream",
     "text": [
      "pygame 1.9.6\n",
      "Hello from the pygame community. https://www.pygame.org/contribute.html\n",
      "couldn't import doomish\n",
      "Couldn't import doom\n"
     ]
    }
   ],
   "source": [
    "from ple import PLE\n",
    "from ple.games.flappybird import FlappyBird\n",
    "import matplotlib.pyplot as plt\n",
    "import os\n",
    "import numpy as np\n",
    "\n",
    "# %matplotlib inline\n",
    "os.environ[\"SDL_VIDEODRIVER\"] = \"dummy\"  # this line make pop-out window not appear\n",
    "game = FlappyBird()\n",
    "env = PLE(game, fps=30, display_screen=False)  # environment interface to game\n",
    "env.reset_game()"
   ]
  },
  {
   "cell_type": "code",
   "execution_count": 3,
   "metadata": {},
   "outputs": [
    {
     "name": "stdout",
     "output_type": "stream",
     "text": [
      "{'up': 119}\n",
      "[119, None]\n"
     ]
    }
   ],
   "source": [
    "# return a dictionary whose key is action description and value is action index\n",
    "print(game.actions)\n",
    "# return a list of action index (include None)\n",
    "print(env.getActionSet())"
   ]
  },
  {
   "cell_type": "code",
   "execution_count": 4,
   "metadata": {},
   "outputs": [
    {
     "data": {
      "text/plain": [
       "{'player_y': 256,\n",
       " 'player_vel': 0,\n",
       " 'next_pipe_dist_to_player': 309.0,\n",
       " 'next_pipe_top_y': 144,\n",
       " 'next_pipe_bottom_y': 244,\n",
       " 'next_next_pipe_dist_to_player': 453.0,\n",
       " 'next_next_pipe_top_y': 160,\n",
       " 'next_next_pipe_bottom_y': 260}"
      ]
     },
     "execution_count": 4,
     "metadata": {},
     "output_type": "execute_result"
    }
   ],
   "source": [
    "# a dictionary describe state\n",
    "'''\n",
    "    player y position.\n",
    "    players velocity.\n",
    "    next pipe distance to player\n",
    "    next pipe top y position\n",
    "    next pipe bottom y position\n",
    "    next next pipe distance to player\n",
    "    next next pipe top y position\n",
    "    next next pipe bottom y position\n",
    "'''\n",
    "game.getGameState()  "
   ]
  },
  {
   "cell_type": "code",
   "execution_count": null,
   "metadata": {},
   "outputs": [],
   "source": [
    "import math\n",
    "import copy\n",
    "from collections import defaultdict\n",
    "MIN_EXPLORING_RATE = 0.01\n",
    "MIN_LEARNING_RATE = 0.5\n",
    "\n",
    "\n",
    "class Agent:\n",
    "\n",
    "    def __init__(self,\n",
    "                 bucket_range_per_feature,\n",
    "                 num_action,\n",
    "                 t=0,\n",
    "                 discount_factor=0.99):\n",
    "        self.update_parameters(t)  # init explore rate and learning rate\n",
    "        self.q_table = defaultdict(lambda: np.zeros(num_action))\n",
    "        self.discount_factor = discount_factor\n",
    "        self.num_action = num_action\n",
    "\n",
    "        # how to discretize each feature in a state\n",
    "        # the higher each value, less time to train but with worser performance\n",
    "        # e.g. if range = 2, feature with value 1 is equal to feature with value 0 bacause int(1/2) = int(0/2)\n",
    "        self.bucket_range_per_feature = bucket_range_per_feature\n",
    "\n",
    "    def select_action(self, state):\n",
    "        # epsilon-greedy\n",
    "        state_idx = self.get_state_idx(state)\n",
    "        if np.random.rand() < self.exploring_rate:\n",
    "            action = np.random.choice(num_action)  # Select a random action\n",
    "        else:\n",
    "            action = np.argmax(\n",
    "                self.q_table[state_idx])  # Select the action with the highest q\n",
    "        return action\n",
    "\n",
    "    def update_policy(self, state, action, reward, state_prime, action_prime):\n",
    "        state_idx = self.get_state_idx(state)\n",
    "        state_prime_idx = self.get_state_idx(state_prime)\n",
    "        # Update Q_value using Q-learning update rule\n",
    "        # best_q = np.max(self.q_table[state_prime_idx])\n",
    "        best_q = self.q_table[state_prime_idx][action_prime]\n",
    "        self.q_table[state_idx][action] += self.learning_rate * (\n",
    "            reward + self.discount_factor * best_q - self.q_table[state_idx][action])\n",
    "\n",
    "    def get_state_idx(self, state):\n",
    "        # instead of using absolute position of pipe, use relative position\n",
    "        state = copy.deepcopy(state)\n",
    "        state['next_next_pipe_bottom_y'] -= state['player_y']\n",
    "        state['next_next_pipe_top_y'] -= state['player_y']\n",
    "        state['next_pipe_bottom_y'] -= state['player_y']\n",
    "        state['next_pipe_top_y'] -= state['player_y']\n",
    "\n",
    "        # sort to make list converted from dict ordered in alphabet order\n",
    "        state_key = [k for k, v in sorted(state.items())]\n",
    "\n",
    "        # do bucketing to decrease state space to speed up training\n",
    "        state_idx = []\n",
    "        for key in state_key:\n",
    "            state_idx.append(\n",
    "                int(state[key] / self.bucket_range_per_feature[key]))\n",
    "        return tuple(state_idx)\n",
    "\n",
    "    def update_parameters(self, episode):\n",
    "        self.exploring_rate = max(MIN_EXPLORING_RATE,\n",
    "                                  min(0.5, 0.99**((episode) / 30)))\n",
    "        self.learning_rate = max(MIN_LEARNING_RATE, min(0.5, 0.99\n",
    "                                                        ** ((episode) / 30)))\n",
    "\n",
    "    def shutdown_explore(self):\n",
    "        # make action selection greedy\n",
    "        self.exploring_rate = 0\n"
   ]
  },
  {
   "cell_type": "code",
   "execution_count": null,
   "metadata": {},
   "outputs": [],
   "source": [
    "num_action = len(env.getActionSet())\n",
    "bucket_range_per_feature = {\n",
    "  'next_next_pipe_bottom_y': 40,\n",
    "  'next_next_pipe_dist_to_player': 512,\n",
    "  'next_next_pipe_top_y': 40,\n",
    "  'next_pipe_bottom_y': 20,\n",
    "  'next_pipe_dist_to_player': 20,\n",
    "  'next_pipe_top_y': 20,\n",
    "  'player_vel': 4,\n",
    "  'player_y': 16\n",
    "}\n",
    "# init agent\n",
    "agent = Agent(bucket_range_per_feature, num_action)\n"
   ]
  },
  {
   "cell_type": "code",
   "execution_count": null,
   "metadata": {},
   "outputs": [],
   "source": [
    "import moviepy.editor as mpy\n",
    "\n",
    "\n",
    "def make_anim(images, fps=60, true_image=False):\n",
    "    duration = len(images) / fps\n",
    "\n",
    "    def make_frame(t):\n",
    "        try:\n",
    "            x = images[int(len(images) / duration * t)]\n",
    "        except:\n",
    "            x = images[-1]\n",
    "\n",
    "        if true_image:\n",
    "            return x.astype(np.uint8)\n",
    "        else:\n",
    "            return ((x + 1) / 2 * 255).astype(np.uint8)\n",
    "\n",
    "    clip = mpy.VideoClip(make_frame, duration=duration)\n",
    "    clip.fps = fps\n",
    "    return clip"
   ]
  },
  {
   "cell_type": "code",
   "execution_count": null,
   "metadata": {},
   "outputs": [
    {
     "name": "stderr",
     "output_type": "stream",
     "text": [
      "                                                             "
     ]
    },
    {
     "name": "stdout",
     "output_type": "stream",
     "text": [
      "Episode 0 finished after 62.000000 time steps\n",
      "cumulated reward: -5.000000\n",
      "exploring rate 0.500000\n",
      "learning rate 0.500000\n",
      "len frames: 63\n",
      "Moviepy - Building video __temp__.mp4.\n",
      "Moviepy - Writing video __temp__.mp4\n",
      "\n",
      "Moviepy - Done !\n",
      "Moviepy - video ready __temp__.mp4\n"
     ]
    },
    {
     "name": "stderr",
     "output_type": "stream",
     "text": [
      "\r"
     ]
    },
    {
     "data": {
      "text/html": [
       "<div align=middle><video autoplay='1' loop='1'src='data:video/mp4;base64,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' controls>Sorry, seems like your browser doesn't support HTML5 audio/video</video></div>"
      ],
      "text/plain": [
       "<moviepy.video.io.html_tools.HTML2 object>"
      ]
     },
     "metadata": {},
     "output_type": "display_data"
    },
    {
     "name": "stdout",
     "output_type": "stream",
     "text": [
      "Episode 500 finished after 62.000000 time steps\n",
      "cumulated reward: -5.000000\n",
      "exploring rate 0.500000\n",
      "learning rate 0.500000\n"
     ]
    }
   ],
   "source": [
    "from IPython.display import Image, display\n",
    "\n",
    "reward_per_epoch = []\n",
    "lifetime_per_epoch = []\n",
    "exploring_rates = []\n",
    "learning_rates = []\n",
    "print_every_episode = 500\n",
    "show_gif_every_episode = 5000\n",
    "# NUM_EPISODE = 40000\n",
    "NUM_EPISODE = 500\n",
    "for episode in range(0, NUM_EPISODE):\n",
    "\n",
    "    # Reset the environment\n",
    "    env.reset_game()\n",
    "\n",
    "    # record frame\n",
    "    frames = [env.getScreenRGB()]\n",
    "\n",
    "    # for every 500 episodes, shutdown exploration to see performance of greedy action\n",
    "    if episode % print_every_episode == 0:\n",
    "        agent.shutdown_explore()\n",
    "\n",
    "    # the initial state\n",
    "    state = game.getGameState()\n",
    "    # cumulate reward for this episode\n",
    "    cum_reward = 0  \n",
    "    t = 0\n",
    "\n",
    "    # select an action\n",
    "    # Modify\n",
    "    action = agent.select_action(state)\n",
    "\n",
    "    while not env.game_over():\n",
    "        # execute the action and get reward\n",
    "        # reward = +1 when pass a pipe, -5 when die\n",
    "        reward = env.act(env.getActionSet()[action])  \n",
    "\n",
    "        frames.append(env.getScreenRGB())\n",
    "\n",
    "        # cumulate reward\n",
    "        cum_reward += reward\n",
    "\n",
    "        # observe the result\n",
    "        state_prime = game.getGameState()  # get next state\n",
    "\n",
    "        # select the next action\n",
    "        # Modify\n",
    "        action_prime = agent.select_action(state_prime)\n",
    "\n",
    "        # update agent\n",
    "        agent.update_policy(state, action, reward, state_prime, action_prime)\n",
    "\n",
    "        # Setting up for the next iteration\n",
    "        state = state_prime\n",
    "        # Modify\n",
    "        action = action_prime\n",
    "\n",
    "\n",
    "        t += 1\n",
    "\n",
    "    # update exploring_rate and learning_rate\n",
    "    agent.update_parameters(episode)\n",
    "\n",
    "    if episode % print_every_episode == 0:\n",
    "        print(\"Episode %d finished after %f time steps\" % (episode, t))\n",
    "        print(\"cumulated reward: %f\" % cum_reward)\n",
    "        print(\"exploring rate %f\" % agent.exploring_rate)\n",
    "        print(\"learning rate %f\" % agent.learning_rate)\n",
    "        reward_per_epoch.append(cum_reward)\n",
    "        exploring_rates.append(agent.exploring_rate)\n",
    "        learning_rates.append(agent.learning_rate)\n",
    "        lifetime_per_epoch.append(t)\n",
    "\n",
    "    # for every 5000 episode, record an animation\n",
    "    if episode % show_gif_every_episode == 0:\n",
    "        print(\"len frames:\", len(frames))\n",
    "        clip = make_anim(frames, fps=60, true_image=True).rotate(-90)\n",
    "        display(clip.ipython_display(fps=60, autoplay=1, loop=1))\n",
    "\n",
    "# ======================================\n",
    "\n",
    "def demo():\n",
    "    # Reset the environment\n",
    "    env.reset_game()\n",
    "\n",
    "    # record frame\n",
    "    frames = [env.getScreenRGB()]\n",
    "\n",
    "    # shutdown exploration to see performance of greedy action\n",
    "    agent.shutdown_explore()\n",
    "\n",
    "    # the initial state\n",
    "    state = game.getGameState()\n",
    "\n",
    "    while not env.game_over():\n",
    "        # select an action\n",
    "        action = agent.select_action(state)\n",
    "\n",
    "        # execute the action and get reward\n",
    "        reward = env.act(env.getActionSet()[action])\n",
    "\n",
    "        frames.append(env.getScreenRGB())\n",
    "\n",
    "        # observe the result\n",
    "        state_prime = game.getGameState()  # get next state\n",
    "\n",
    "        # Setting up for the next iteration\n",
    "        state = state_prime\n",
    "\n",
    "    clip = make_anim(frames, fps=60, true_image=True).rotate(-90)\n",
    "    display(clip.ipython_display(fps=60, autoplay=1, loop=1))\n",
    "\n",
    "\n",
    "demo()\n",
    "\n",
    "# ======================================\n",
    "\n",
    "# plot life time against training episodes\n",
    "fig, ax1 = plt.subplots(figsize=(20, 5))\n",
    "plt.plot(range(len(lifetime_per_epoch)), lifetime_per_epoch)\n",
    "fig.tight_layout()\n",
    "plt.show()\n",
    "\n",
    "# ======================================\n",
    "\n",
    "# plot reward against training episodes\n",
    "fig, ax1 = plt.subplots(figsize=(20, 5))\n",
    "plt.plot(range(len(reward_per_epoch)), reward_per_epoch)\n",
    "plt.show()\n",
    "\n",
    "# ======================================"
   ]
  }
 ],
 "metadata": {
  "kernelspec": {
   "name": "python3",
   "display_name": "Python 3.7.7 64-bit ('tensorflow-gpu': conda)",
   "metadata": {
    "interpreter": {
     "hash": "087ba6ade2f51559d6821c712868e289f75a1250299fbee96fb351145da46472"
    }
   }
  },
  "language_info": {
   "codemirror_mode": {
    "name": "ipython",
    "version": 3
   },
   "file_extension": ".py",
   "mimetype": "text/x-python",
   "name": "python",
   "nbconvert_exporter": "python",
   "pygments_lexer": "ipython3",
   "version": "3.7.7-final"
  }
 },
 "nbformat": 4,
 "nbformat_minor": 2
}