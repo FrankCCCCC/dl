{
 "cells": [
  {
   "cell_type": "code",
   "execution_count": 1,
   "metadata": {},
   "outputs": [],
   "source": [
    "import pandas as pd\n",
    "import numpy as np"
   ]
  },
  {
   "cell_type": "code",
   "execution_count": 2,
   "metadata": {},
   "outputs": [],
   "source": [
    "preprocessed_train = pd.read_csv('preprocessed_train.csv')"
   ]
  },
  {
   "cell_type": "code",
   "execution_count": 22,
   "metadata": {},
   "outputs": [
    {
     "data": {
      "text/html": [
       "<div>\n",
       "<style scoped>\n",
       "    .dataframe tbody tr th:only-of-type {\n",
       "        vertical-align: middle;\n",
       "    }\n",
       "\n",
       "    .dataframe tbody tr th {\n",
       "        vertical-align: top;\n",
       "    }\n",
       "\n",
       "    .dataframe thead th {\n",
       "        text-align: right;\n",
       "    }\n",
       "</style>\n",
       "<table border=\"1\" class=\"dataframe\">\n",
       "  <thead>\n",
       "    <tr style=\"text-align: right;\">\n",
       "      <th></th>\n",
       "      <th>index</th>\n",
       "      <th>Id</th>\n",
       "      <th>Popularity</th>\n",
       "      <th>Page content</th>\n",
       "      <th>data-channel</th>\n",
       "      <th>title</th>\n",
       "      <th>raw_content</th>\n",
       "      <th>content_length</th>\n",
       "      <th>avg_word_length</th>\n",
       "      <th>topics</th>\n",
       "      <th>...</th>\n",
       "      <th>hour</th>\n",
       "      <th>min</th>\n",
       "      <th>sec</th>\n",
       "      <th>weekends</th>\n",
       "      <th>img_number</th>\n",
       "      <th>link_number</th>\n",
       "      <th>title_length</th>\n",
       "      <th>top0</th>\n",
       "      <th>top1</th>\n",
       "      <th>top2</th>\n",
       "    </tr>\n",
       "  </thead>\n",
       "  <tbody>\n",
       "    <tr>\n",
       "      <th>0</th>\n",
       "      <td>0</td>\n",
       "      <td>0</td>\n",
       "      <td>-1</td>\n",
       "      <td>&lt;html&gt;&lt;head&gt;&lt;div class=\"article-info\"&gt; &lt;span c...</td>\n",
       "      <td>32</td>\n",
       "      <td>nasa grand challenge stop asteroid from destro...</td>\n",
       "      <td>there may killer asteroid head earth nasa deci...</td>\n",
       "      <td>583</td>\n",
       "      <td>5.214905</td>\n",
       "      <td>-24.340359</td>\n",
       "      <td>...</td>\n",
       "      <td>15</td>\n",
       "      <td>4</td>\n",
       "      <td>30</td>\n",
       "      <td>0</td>\n",
       "      <td>1</td>\n",
       "      <td>22</td>\n",
       "      <td>60</td>\n",
       "      <td>-24.340359</td>\n",
       "      <td>-7.455764</td>\n",
       "      <td>13.726552</td>\n",
       "    </tr>\n",
       "    <tr>\n",
       "      <th>1</th>\n",
       "      <td>1</td>\n",
       "      <td>1</td>\n",
       "      <td>1</td>\n",
       "      <td>&lt;html&gt;&lt;head&gt;&lt;div class=\"article-info\"&gt;&lt;span cl...</td>\n",
       "      <td>28</td>\n",
       "      <td>google new open sourc patent pledge We won t s...</td>\n",
       "      <td>googl took stand sort patent lawsuit theater t...</td>\n",
       "      <td>309</td>\n",
       "      <td>5.032787</td>\n",
       "      <td>14.029861</td>\n",
       "      <td>...</td>\n",
       "      <td>17</td>\n",
       "      <td>40</td>\n",
       "      <td>55</td>\n",
       "      <td>0</td>\n",
       "      <td>2</td>\n",
       "      <td>18</td>\n",
       "      <td>74</td>\n",
       "      <td>14.029861</td>\n",
       "      <td>-10.953203</td>\n",
       "      <td>16.245693</td>\n",
       "    </tr>\n",
       "  </tbody>\n",
       "</table>\n",
       "<p>2 rows × 24 columns</p>\n",
       "</div>"
      ],
      "text/plain": [
       "   index  Id  Popularity                                       Page content  \\\n",
       "0      0   0          -1  <html><head><div class=\"article-info\"> <span c...   \n",
       "1      1   1           1  <html><head><div class=\"article-info\"><span cl...   \n",
       "\n",
       "   data-channel                                              title  \\\n",
       "0            32  nasa grand challenge stop asteroid from destro...   \n",
       "1            28  google new open sourc patent pledge We won t s...   \n",
       "\n",
       "                                         raw_content  content_length  \\\n",
       "0  there may killer asteroid head earth nasa deci...             583   \n",
       "1  googl took stand sort patent lawsuit theater t...             309   \n",
       "\n",
       "   avg_word_length     topics  ...  hour  min  sec  weekends  img_number  \\\n",
       "0         5.214905 -24.340359  ...    15    4   30         0           1   \n",
       "1         5.032787  14.029861  ...    17   40   55         0           2   \n",
       "\n",
       "   link_number  title_length       top0       top1       top2  \n",
       "0           22            60 -24.340359  -7.455764  13.726552  \n",
       "1           18            74  14.029861 -10.953203  16.245693  \n",
       "\n",
       "[2 rows x 24 columns]"
      ]
     },
     "execution_count": 22,
     "metadata": {},
     "output_type": "execute_result"
    }
   ],
   "source": [
    "preprocessed_train.head(2)"
   ]
  },
  {
   "cell_type": "code",
   "execution_count": 6,
   "metadata": {},
   "outputs": [],
   "source": [
    "topics = pd.read_csv('topics.csv')\n",
    "topics_t = pd.read_csv('topic_tfidf_tsne_train.csv')\n",
    "df_tl = pd.read_csv('title_tfidf_lda_train.csv')\n",
    "df_tt = pd.read_csv('title_tfidf_tsne_train.csv')\n",
    "df_cl = pd.read_csv('content_tfidf_lda_train.csv')\n",
    "df_ct = pd.read_csv('content_tfidf_tsne_train.csv')"
   ]
  },
  {
   "cell_type": "code",
   "execution_count": 32,
   "metadata": {},
   "outputs": [],
   "source": [
    "preprocessed_train[['top0','top1','top2']] = topics_t[['top0','top1','top2']]\n",
    "df_all = pd.concat([preprocessed_train, df_tt, df_ct], axis=1)\n",
    "df_X = df_all.drop(columns=['index', 'Id', 'Page content', 'title', 'raw_content','topics'])\n",
    "df_y = df_all['Popularity']"
   ]
  },
  {
   "cell_type": "code",
   "execution_count": 33,
   "metadata": {},
   "outputs": [
    {
     "data": {
      "text/plain": [
       "Popularity         1.000000\n",
       "weekends           0.097561\n",
       "link_number        0.027318\n",
       "top0               0.024529\n",
       "tt2                0.019474\n",
       "0                  0.017143\n",
       "content_length     0.016799\n",
       "day                0.010790\n",
       "img_number         0.010511\n",
       "tt1                0.005310\n",
       "2                  0.000842\n",
       "data-channel      -0.000635\n",
       "avg_word_length   -0.001573\n",
       "1                 -0.003774\n",
       "sec               -0.003795\n",
       "top1              -0.004955\n",
       "top2              -0.011118\n",
       "min               -0.011711\n",
       "author            -0.012049\n",
       "tt3               -0.015162\n",
       "hour              -0.015874\n",
       "year              -0.016675\n",
       "title_length      -0.025904\n",
       "month             -0.075807\n",
       "Name: Popularity, dtype: float64"
      ]
     },
     "execution_count": 33,
     "metadata": {},
     "output_type": "execute_result"
    }
   ],
   "source": [
    "corr_matrix = df_X.corr()\n",
    "corr_matrix['Popularity'].sort_values(ascending=False)"
   ]
  },
  {
   "cell_type": "code",
   "execution_count": 34,
   "metadata": {},
   "outputs": [],
   "source": [
    "df_X = df_X.drop(columns=['Popularity'])"
   ]
  },
  {
   "cell_type": "code",
   "execution_count": 56,
   "metadata": {},
   "outputs": [
    {
     "data": {
      "text/plain": [
       "Index(['data-channel', 'content_length', 'avg_word_length', 'author', 'year',\n",
       "       'month', 'day', 'hour', 'min', 'sec', 'weekends', 'img_number',\n",
       "       'link_number', 'title_length', 'top0', 'top1', 'top2', 'tt1', 'tt2',\n",
       "       'tt3', '0', '1', '2'],\n",
       "      dtype='object')"
      ]
     },
     "execution_count": 56,
     "metadata": {},
     "output_type": "execute_result"
    }
   ],
   "source": [
    "df_X.columns"
   ]
  },
  {
   "cell_type": "markdown",
   "metadata": {},
   "source": [
    "## Show importance"
   ]
  },
  {
   "cell_type": "code",
   "execution_count": 15,
   "metadata": {},
   "outputs": [],
   "source": [
    "from sklearn.ensemble import RandomForestClassifier\n",
    "import matplotlib.pyplot as plt\n",
    "def importance_plot(df_X, df_y):\n",
    "    forest = RandomForestClassifier(criterion='entropy',\n",
    "                                    n_estimators=200,\n",
    "                                    random_state=1,\n",
    "                                    n_jobs=-1)\n",
    "    forest.fit(df_X.values, df_y.values.ravel())\n",
    "    importances = forest.feature_importances_\n",
    "    indices_f = np.argsort(importances)[::-1]\n",
    "    plt.title('Feature Importances')\n",
    "    plt.bar(range(importances.shape[0]),\n",
    "            importances[indices_f],\n",
    "            align='center',\n",
    "            alpha=0.5)\n",
    "    plt.xticks(range(importances.shape[0]),\n",
    "               df_X.columns.values[indices_f],\n",
    "               rotation=90)\n",
    "    plt.tight_layout()\n",
    "    plt.show()\n",
    "    print(f'TOP 3 Fetures: {df_X.columns.values[indices_f[0]]}, {df_X.columns.values[indices_f[1]]}, {df_X.columns.values[indices_f[2]]}')"
   ]
  },
  {
   "cell_type": "code",
   "execution_count": 16,
   "metadata": {},
   "outputs": [
    {
     "data": {
      "image/png": "[encoded data removed]",
      "text/plain": [
       "<Figure size 432x288 with 1 Axes>"
      ]
     },
     "metadata": {
      "needs_background": "light"
     },
     "output_type": "display_data"
    },
    {
     "name": "stdout",
     "output_type": "stream",
     "text": [
      "TOP 3 Fetures: tt3, avg_word_length, tt2\n"
     ]
    }
   ],
   "source": [
    "importance_plot(df_X, df_y)"
   ]
  },
  {
   "cell_type": "code",
   "execution_count": 8,
   "metadata": {},
   "outputs": [
    {
     "data": {
      "text/plain": [
       "Index(['data-channel', 'content_length', 'avg_word_length', 'topics', 'author',\n",
       "       'year', 'month', 'day', 'hour', 'min', 'sec', 'weekends', 'img_number',\n",
       "       'link_number', 'title_length', 'a', 'b', 'c', '0', '1', '2'],\n",
       "      dtype='object')"
      ]
     },
     "execution_count": 8,
     "metadata": {},
     "output_type": "execute_result"
    }
   ],
   "source": [
    "df_X.columns"
   ]
  },
  {
   "cell_type": "code",
   "execution_count": 55,
   "metadata": {},
   "outputs": [
    {
     "name": "stdout",
     "output_type": "stream",
     "text": [
      "TRAIN: [    0     1     2 ... 27637 27639 27641] TEST: [    3     6    17 ... 27638 27640 27642]\n",
      "0.5628504250316513\n",
      "TRAIN: [    1     2     3 ... 27640 27641 27642] TEST: [    0     7    19 ... 27607 27611 27626]\n"
     ]
    },
    {
     "ename": "KeyboardInterrupt",
     "evalue": "",
     "output_type": "error",
     "traceback": [
      "\u001b[1;31m---------------------------------------------------------------------------\u001b[0m",
      "\u001b[1;31mKeyboardInterrupt\u001b[0m                         Traceback (most recent call last)",
      "\u001b[1;32m<ipython-input-55-bd9e089a3981>\u001b[0m in \u001b[0;36m<module>\u001b[1;34m\u001b[0m\n\u001b[0;32m     14\u001b[0m \u001b[1;33m\u001b[0m\u001b[0m\n\u001b[0;32m     15\u001b[0m     \u001b[1;31m# For training, fit() is used\u001b[0m\u001b[1;33m\u001b[0m\u001b[1;33m\u001b[0m\u001b[1;33m\u001b[0m\u001b[0m\n\u001b[1;32m---> 16\u001b[1;33m     \u001b[0mforest\u001b[0m\u001b[1;33m.\u001b[0m\u001b[0mfit\u001b[0m\u001b[1;33m(\u001b[0m\u001b[0mX_train\u001b[0m\u001b[1;33m,\u001b[0m \u001b[0my_train\u001b[0m\u001b[1;33m)\u001b[0m\u001b[1;33m\u001b[0m\u001b[1;33m\u001b[0m\u001b[0m\n\u001b[0m\u001b[0;32m     17\u001b[0m \u001b[1;33m\u001b[0m\u001b[0m\n\u001b[0;32m     18\u001b[0m     \u001b[1;31m# For other metrics, we need the predictions of the model\u001b[0m\u001b[1;33m\u001b[0m\u001b[1;33m\u001b[0m\u001b[1;33m\u001b[0m\u001b[0m\n",
      "\u001b[1;32m~\\anaconda3\\envs\\myenv\\lib\\site-packages\\sklearn\\ensemble\\_forest.py\u001b[0m in \u001b[0;36mfit\u001b[1;34m(self, X, y, sample_weight)\u001b[0m\n\u001b[0;32m    390\u001b[0m                     \u001b[0mverbose\u001b[0m\u001b[1;33m=\u001b[0m\u001b[0mself\u001b[0m\u001b[1;33m.\u001b[0m\u001b[0mverbose\u001b[0m\u001b[1;33m,\u001b[0m \u001b[0mclass_weight\u001b[0m\u001b[1;33m=\u001b[0m\u001b[0mself\u001b[0m\u001b[1;33m.\u001b[0m\u001b[0mclass_weight\u001b[0m\u001b[1;33m,\u001b[0m\u001b[1;33m\u001b[0m\u001b[1;33m\u001b[0m\u001b[0m\n\u001b[0;32m    391\u001b[0m                     n_samples_bootstrap=n_samples_bootstrap)\n\u001b[1;32m--> 392\u001b[1;33m                 for i, t in enumerate(trees))\n\u001b[0m\u001b[0;32m    393\u001b[0m \u001b[1;33m\u001b[0m\u001b[0m\n\u001b[0;32m    394\u001b[0m             \u001b[1;31m# Collect newly grown trees\u001b[0m\u001b[1;33m\u001b[0m\u001b[1;33m\u001b[0m\u001b[1;33m\u001b[0m\u001b[0m\n",
      "\u001b[1;32m~\\anaconda3\\envs\\myenv\\lib\\site-packages\\joblib\\parallel.py\u001b[0m in \u001b[0;36m__call__\u001b[1;34m(self, iterable)\u001b[0m\n\u001b[0;32m   1040\u001b[0m \u001b[1;33m\u001b[0m\u001b[0m\n\u001b[0;32m   1041\u001b[0m             \u001b[1;32mwith\u001b[0m \u001b[0mself\u001b[0m\u001b[1;33m.\u001b[0m\u001b[0m_backend\u001b[0m\u001b[1;33m.\u001b[0m\u001b[0mretrieval_context\u001b[0m\u001b[1;33m(\u001b[0m\u001b[1;33m)\u001b[0m\u001b[1;33m:\u001b[0m\u001b[1;33m\u001b[0m\u001b[1;33m\u001b[0m\u001b[0m\n\u001b[1;32m-> 1042\u001b[1;33m                 \u001b[0mself\u001b[0m\u001b[1;33m.\u001b[0m\u001b[0mretrieve\u001b[0m\u001b[1;33m(\u001b[0m\u001b[1;33m)\u001b[0m\u001b[1;33m\u001b[0m\u001b[1;33m\u001b[0m\u001b[0m\n\u001b[0m\u001b[0;32m   1043\u001b[0m             \u001b[1;31m# Make sure that we get a last message telling us we are done\u001b[0m\u001b[1;33m\u001b[0m\u001b[1;33m\u001b[0m\u001b[1;33m\u001b[0m\u001b[0m\n\u001b[0;32m   1044\u001b[0m             \u001b[0melapsed_time\u001b[0m \u001b[1;33m=\u001b[0m \u001b[0mtime\u001b[0m\u001b[1;33m.\u001b[0m\u001b[0mtime\u001b[0m\u001b[1;33m(\u001b[0m\u001b[1;33m)\u001b[0m \u001b[1;33m-\u001b[0m \u001b[0mself\u001b[0m\u001b[1;33m.\u001b[0m\u001b[0m_start_time\u001b[0m\u001b[1;33m\u001b[0m\u001b[1;33m\u001b[0m\u001b[0m\n",
      "\u001b[1;32m~\\anaconda3\\envs\\myenv\\lib\\site-packages\\joblib\\parallel.py\u001b[0m in \u001b[0;36mretrieve\u001b[1;34m(self)\u001b[0m\n\u001b[0;32m    919\u001b[0m             \u001b[1;32mtry\u001b[0m\u001b[1;33m:\u001b[0m\u001b[1;33m\u001b[0m\u001b[1;33m\u001b[0m\u001b[0m\n\u001b[0;32m    920\u001b[0m                 \u001b[1;32mif\u001b[0m \u001b[0mgetattr\u001b[0m\u001b[1;33m(\u001b[0m\u001b[0mself\u001b[0m\u001b[1;33m.\u001b[0m\u001b[0m_backend\u001b[0m\u001b[1;33m,\u001b[0m \u001b[1;34m'supports_timeout'\u001b[0m\u001b[1;33m,\u001b[0m \u001b[1;32mFalse\u001b[0m\u001b[1;33m)\u001b[0m\u001b[1;33m:\u001b[0m\u001b[1;33m\u001b[0m\u001b[1;33m\u001b[0m\u001b[0m\n\u001b[1;32m--> 921\u001b[1;33m                     \u001b[0mself\u001b[0m\u001b[1;33m.\u001b[0m\u001b[0m_output\u001b[0m\u001b[1;33m.\u001b[0m\u001b[0mextend\u001b[0m\u001b[1;33m(\u001b[0m\u001b[0mjob\u001b[0m\u001b[1;33m.\u001b[0m\u001b[0mget\u001b[0m\u001b[1;33m(\u001b[0m\u001b[0mtimeout\u001b[0m\u001b[1;33m=\u001b[0m\u001b[0mself\u001b[0m\u001b[1;33m.\u001b[0m\u001b[0mtimeout\u001b[0m\u001b[1;33m)\u001b[0m\u001b[1;33m)\u001b[0m\u001b[1;33m\u001b[0m\u001b[1;33m\u001b[0m\u001b[0m\n\u001b[0m\u001b[0;32m    922\u001b[0m                 \u001b[1;32melse\u001b[0m\u001b[1;33m:\u001b[0m\u001b[1;33m\u001b[0m\u001b[1;33m\u001b[0m\u001b[0m\n\u001b[0;32m    923\u001b[0m                     \u001b[0mself\u001b[0m\u001b[1;33m.\u001b[0m\u001b[0m_output\u001b[0m\u001b[1;33m.\u001b[0m\u001b[0mextend\u001b[0m\u001b[1;33m(\u001b[0m\u001b[0mjob\u001b[0m\u001b[1;33m.\u001b[0m\u001b[0mget\u001b[0m\u001b[1;33m(\u001b[0m\u001b[1;33m)\u001b[0m\u001b[1;33m)\u001b[0m\u001b[1;33m\u001b[0m\u001b[1;33m\u001b[0m\u001b[0m\n",
      "\u001b[1;32m~\\anaconda3\\envs\\myenv\\lib\\multiprocessing\\pool.py\u001b[0m in \u001b[0;36mget\u001b[1;34m(self, timeout)\u001b[0m\n\u001b[0;32m    649\u001b[0m \u001b[1;33m\u001b[0m\u001b[0m\n\u001b[0;32m    650\u001b[0m     \u001b[1;32mdef\u001b[0m \u001b[0mget\u001b[0m\u001b[1;33m(\u001b[0m\u001b[0mself\u001b[0m\u001b[1;33m,\u001b[0m \u001b[0mtimeout\u001b[0m\u001b[1;33m=\u001b[0m\u001b[1;32mNone\u001b[0m\u001b[1;33m)\u001b[0m\u001b[1;33m:\u001b[0m\u001b[1;33m\u001b[0m\u001b[1;33m\u001b[0m\u001b[0m\n\u001b[1;32m--> 651\u001b[1;33m         \u001b[0mself\u001b[0m\u001b[1;33m.\u001b[0m\u001b[0mwait\u001b[0m\u001b[1;33m(\u001b[0m\u001b[0mtimeout\u001b[0m\u001b[1;33m)\u001b[0m\u001b[1;33m\u001b[0m\u001b[1;33m\u001b[0m\u001b[0m\n\u001b[0m\u001b[0;32m    652\u001b[0m         \u001b[1;32mif\u001b[0m \u001b[1;32mnot\u001b[0m \u001b[0mself\u001b[0m\u001b[1;33m.\u001b[0m\u001b[0mready\u001b[0m\u001b[1;33m(\u001b[0m\u001b[1;33m)\u001b[0m\u001b[1;33m:\u001b[0m\u001b[1;33m\u001b[0m\u001b[1;33m\u001b[0m\u001b[0m\n\u001b[0;32m    653\u001b[0m             \u001b[1;32mraise\u001b[0m \u001b[0mTimeoutError\u001b[0m\u001b[1;33m\u001b[0m\u001b[1;33m\u001b[0m\u001b[0m\n",
      "\u001b[1;32m~\\anaconda3\\envs\\myenv\\lib\\multiprocessing\\pool.py\u001b[0m in \u001b[0;36mwait\u001b[1;34m(self, timeout)\u001b[0m\n\u001b[0;32m    646\u001b[0m \u001b[1;33m\u001b[0m\u001b[0m\n\u001b[0;32m    647\u001b[0m     \u001b[1;32mdef\u001b[0m \u001b[0mwait\u001b[0m\u001b[1;33m(\u001b[0m\u001b[0mself\u001b[0m\u001b[1;33m,\u001b[0m \u001b[0mtimeout\u001b[0m\u001b[1;33m=\u001b[0m\u001b[1;32mNone\u001b[0m\u001b[1;33m)\u001b[0m\u001b[1;33m:\u001b[0m\u001b[1;33m\u001b[0m\u001b[1;33m\u001b[0m\u001b[0m\n\u001b[1;32m--> 648\u001b[1;33m         \u001b[0mself\u001b[0m\u001b[1;33m.\u001b[0m\u001b[0m_event\u001b[0m\u001b[1;33m.\u001b[0m\u001b[0mwait\u001b[0m\u001b[1;33m(\u001b[0m\u001b[0mtimeout\u001b[0m\u001b[1;33m)\u001b[0m\u001b[1;33m\u001b[0m\u001b[1;33m\u001b[0m\u001b[0m\n\u001b[0m\u001b[0;32m    649\u001b[0m \u001b[1;33m\u001b[0m\u001b[0m\n\u001b[0;32m    650\u001b[0m     \u001b[1;32mdef\u001b[0m \u001b[0mget\u001b[0m\u001b[1;33m(\u001b[0m\u001b[0mself\u001b[0m\u001b[1;33m,\u001b[0m \u001b[0mtimeout\u001b[0m\u001b[1;33m=\u001b[0m\u001b[1;32mNone\u001b[0m\u001b[1;33m)\u001b[0m\u001b[1;33m:\u001b[0m\u001b[1;33m\u001b[0m\u001b[1;33m\u001b[0m\u001b[0m\n",
      "\u001b[1;32m~\\anaconda3\\envs\\myenv\\lib\\threading.py\u001b[0m in \u001b[0;36mwait\u001b[1;34m(self, timeout)\u001b[0m\n\u001b[0;32m    550\u001b[0m             \u001b[0msignaled\u001b[0m \u001b[1;33m=\u001b[0m \u001b[0mself\u001b[0m\u001b[1;33m.\u001b[0m\u001b[0m_flag\u001b[0m\u001b[1;33m\u001b[0m\u001b[1;33m\u001b[0m\u001b[0m\n\u001b[0;32m    551\u001b[0m             \u001b[1;32mif\u001b[0m \u001b[1;32mnot\u001b[0m \u001b[0msignaled\u001b[0m\u001b[1;33m:\u001b[0m\u001b[1;33m\u001b[0m\u001b[1;33m\u001b[0m\u001b[0m\n\u001b[1;32m--> 552\u001b[1;33m                 \u001b[0msignaled\u001b[0m \u001b[1;33m=\u001b[0m \u001b[0mself\u001b[0m\u001b[1;33m.\u001b[0m\u001b[0m_cond\u001b[0m\u001b[1;33m.\u001b[0m\u001b[0mwait\u001b[0m\u001b[1;33m(\u001b[0m\u001b[0mtimeout\u001b[0m\u001b[1;33m)\u001b[0m\u001b[1;33m\u001b[0m\u001b[1;33m\u001b[0m\u001b[0m\n\u001b[0m\u001b[0;32m    553\u001b[0m             \u001b[1;32mreturn\u001b[0m \u001b[0msignaled\u001b[0m\u001b[1;33m\u001b[0m\u001b[1;33m\u001b[0m\u001b[0m\n\u001b[0;32m    554\u001b[0m \u001b[1;33m\u001b[0m\u001b[0m\n",
      "\u001b[1;32m~\\anaconda3\\envs\\myenv\\lib\\threading.py\u001b[0m in \u001b[0;36mwait\u001b[1;34m(self, timeout)\u001b[0m\n\u001b[0;32m    294\u001b[0m         \u001b[1;32mtry\u001b[0m\u001b[1;33m:\u001b[0m    \u001b[1;31m# restore state no matter what (e.g., KeyboardInterrupt)\u001b[0m\u001b[1;33m\u001b[0m\u001b[1;33m\u001b[0m\u001b[0m\n\u001b[0;32m    295\u001b[0m             \u001b[1;32mif\u001b[0m \u001b[0mtimeout\u001b[0m \u001b[1;32mis\u001b[0m \u001b[1;32mNone\u001b[0m\u001b[1;33m:\u001b[0m\u001b[1;33m\u001b[0m\u001b[1;33m\u001b[0m\u001b[0m\n\u001b[1;32m--> 296\u001b[1;33m                 \u001b[0mwaiter\u001b[0m\u001b[1;33m.\u001b[0m\u001b[0macquire\u001b[0m\u001b[1;33m(\u001b[0m\u001b[1;33m)\u001b[0m\u001b[1;33m\u001b[0m\u001b[1;33m\u001b[0m\u001b[0m\n\u001b[0m\u001b[0;32m    297\u001b[0m                 \u001b[0mgotit\u001b[0m \u001b[1;33m=\u001b[0m \u001b[1;32mTrue\u001b[0m\u001b[1;33m\u001b[0m\u001b[1;33m\u001b[0m\u001b[0m\n\u001b[0;32m    298\u001b[0m             \u001b[1;32melse\u001b[0m\u001b[1;33m:\u001b[0m\u001b[1;33m\u001b[0m\u001b[1;33m\u001b[0m\u001b[0m\n",
      "\u001b[1;31mKeyboardInterrupt\u001b[0m: "
     ]
    }
   ],
   "source": [
    "from sklearn import model_selection\n",
    "from sklearn.ensemble import RandomForestClassifier\n",
    "from sklearn.metrics import accuracy_score\n",
    "\n",
    "forest = RandomForestClassifier(n_estimators=500, random_state=42, n_jobs=-2, verbose=0)\n",
    "\n",
    "cv = model_selection.KFold(n_splits=5, shuffle=True, random_state=42)\n",
    "\n",
    "accuracy_list=[]\n",
    "for train_index, test_index in cv.split(df_X.values, df_y.values):\n",
    "    print(\"TRAIN:\", train_index, \"TEST:\", test_index)\n",
    "    X_train, X_val = df_X.values[train_index], df_X.values[test_index]\n",
    "    y_train, y_val = df_y.values[train_index], df_y.values[test_index]\n",
    "\n",
    "    # For training, fit() is used\n",
    "    forest.fit(X_train, y_train)\n",
    "\n",
    "    # For other metrics, we need the predictions of the model\n",
    "    y_pred = forest.predict(X_val)\n",
    "    \n",
    "    print(accuracy_score(y_val, y_pred))\n",
    "    accuracy_list.append(accuracy_score(y_val, y_pred))"
   ]
  },
  {
   "cell_type": "code",
   "execution_count": 52,
   "metadata": {},
   "outputs": [
    {
     "name": "stdout",
     "output_type": "stream",
     "text": [
      "0.5637955927161062\n"
     ]
    }
   ],
   "source": [
    "print(np.mean(accuracy_list))"
   ]
  },
  {
   "cell_type": "code",
   "execution_count": 49,
   "metadata": {},
   "outputs": [],
   "source": [
    "df_X_drop = df_X[['weekends', 'month','link_number','title_length','top0','tt2']] #,'month'"
   ]
  },
  {
   "cell_type": "code",
   "execution_count": 50,
   "metadata": {},
   "outputs": [
    {
     "name": "stdout",
     "output_type": "stream",
     "text": [
      "TRAIN: [    0     1     2 ... 27637 27639 27641] TEST: [    3     6    17 ... 27638 27640 27642]\n",
      "0.5217941761620546\n",
      "TRAIN: [    1     2     3 ... 27640 27641 27642] TEST: [    0     7    19 ... 27607 27611 27626]\n",
      "0.5384337131488515\n",
      "TRAIN: [    0     1     2 ... 27640 27641 27642] TEST: [    4     5     8 ... 27630 27634 27637]\n",
      "0.5313799963827094\n",
      "TRAIN: [    0     3     4 ... 27640 27641 27642] TEST: [    1     2    10 ... 27623 27635 27636]\n",
      "0.5235166425470333\n",
      "TRAIN: [    0     1     2 ... 27638 27640 27642] TEST: [    9    11    13 ... 27632 27639 27641]\n",
      "0.5365412445730825\n"
     ]
    }
   ],
   "source": [
    "from sklearn import model_selection\n",
    "from sklearn.ensemble import RandomForestClassifier\n",
    "from sklearn.metrics import accuracy_score\n",
    "\n",
    "forest = RandomForestClassifier(n_estimators=1000, random_state=42, n_jobs=-1, verbose=0)\n",
    "\n",
    "cv = model_selection.KFold(n_splits=5, shuffle=True, random_state=42)\n",
    "\n",
    "accuracy_list=[]\n",
    "for train_index, test_index in cv.split(df_X_drop.values, df_y.values):\n",
    "    print(\"TRAIN:\", train_index, \"TEST:\", test_index)\n",
    "    X_train, X_val = df_X_drop.values[train_index], df_X_drop.values[test_index]\n",
    "    y_train, y_val = df_y.values[train_index], df_y.values[test_index]\n",
    "\n",
    "    # For training, fit() is used\n",
    "    forest.fit(X_train, y_train)\n",
    "\n",
    "    # For other metrics, we need the predictions of the model\n",
    "    y_pred = forest.predict(X_val)\n",
    "    \n",
    "    print(accuracy_score(y_val, y_pred))\n",
    "    accuracy_list.append(accuracy_score(y_val, y_pred))"
   ]
  },
  {
   "cell_type": "code",
   "execution_count": 10,
   "metadata": {},
   "outputs": [],
   "source": [
    "time_feat = ['year', 'month', 'day', 'hour', 'min', 'sec']"
   ]
  },
  {
   "cell_type": "code",
   "execution_count": 19,
   "metadata": {},
   "outputs": [
    {
     "name": "stdout",
     "output_type": "stream",
     "text": [
      "TRAIN: [    0     1     2 ... 24947 24948 24949] TEST: [   17    29    30 ... 24935 24936 24938]\n",
      "TRAIN: [    1     2     5 ... 24946 24948 24949] TEST: [    0     3     4 ... 24940 24942 24947]\n",
      "TRAIN: [    0     1     2 ... 24946 24947 24948] TEST: [    5     7     8 ... 24944 24945 24949]\n",
      "TRAIN: [    0     3     4 ... 24947 24948 24949] TEST: [    1     2    10 ... 24923 24937 24941]\n",
      "TRAIN: [    0     1     2 ... 24945 24947 24949] TEST: [    9    11    13 ... 24939 24946 24948]\n",
      "CV Accuracy: 0.54000  Dropped time_feat: ('year', 'month', 'day', 'hour')\n",
      "TRAIN: [    0     1     2 ... 24947 24948 24949] TEST: [   17    29    30 ... 24935 24936 24938]\n",
      "TRAIN: [    1     2     5 ... 24946 24948 24949] TEST: [    0     3     4 ... 24940 24942 24947]\n",
      "TRAIN: [    0     1     2 ... 24946 24947 24948] TEST: [    5     7     8 ... 24944 24945 24949]\n",
      "TRAIN: [    0     3     4 ... 24947 24948 24949] TEST: [    1     2    10 ... 24923 24937 24941]\n",
      "TRAIN: [    0     1     2 ... 24945 24947 24949] TEST: [    9    11    13 ... 24939 24946 24948]\n",
      "CV Accuracy: 0.53980  Dropped time_feat: ('year', 'month', 'day', 'min')\n",
      "TRAIN: [    0     1     2 ... 24947 24948 24949] TEST: [   17    29    30 ... 24935 24936 24938]\n",
      "TRAIN: [    1     2     5 ... 24946 24948 24949] TEST: [    0     3     4 ... 24940 24942 24947]\n",
      "TRAIN: [    0     1     2 ... 24946 24947 24948] TEST: [    5     7     8 ... 24944 24945 24949]\n",
      "TRAIN: [    0     3     4 ... 24947 24948 24949] TEST: [    1     2    10 ... 24923 24937 24941]\n",
      "TRAIN: [    0     1     2 ... 24945 24947 24949] TEST: [    9    11    13 ... 24939 24946 24948]\n",
      "CV Accuracy: 0.53916  Dropped time_feat: ('year', 'month', 'day', 'sec')\n",
      "TRAIN: [    0     1     2 ... 24947 24948 24949] TEST: [   17    29    30 ... 24935 24936 24938]\n",
      "TRAIN: [    1     2     5 ... 24946 24948 24949] TEST: [    0     3     4 ... 24940 24942 24947]\n",
      "TRAIN: [    0     1     2 ... 24946 24947 24948] TEST: [    5     7     8 ... 24944 24945 24949]\n",
      "TRAIN: [    0     3     4 ... 24947 24948 24949] TEST: [    1     2    10 ... 24923 24937 24941]\n",
      "TRAIN: [    0     1     2 ... 24945 24947 24949] TEST: [    9    11    13 ... 24939 24946 24948]\n",
      "CV Accuracy: 0.54048  Dropped time_feat: ('year', 'month', 'hour', 'min')\n",
      "TRAIN: [    0     1     2 ... 24947 24948 24949] TEST: [   17    29    30 ... 24935 24936 24938]\n",
      "TRAIN: [    1     2     5 ... 24946 24948 24949] TEST: [    0     3     4 ... 24940 24942 24947]\n",
      "TRAIN: [    0     1     2 ... 24946 24947 24948] TEST: [    5     7     8 ... 24944 24945 24949]\n",
      "TRAIN: [    0     3     4 ... 24947 24948 24949] TEST: [    1     2    10 ... 24923 24937 24941]\n",
      "TRAIN: [    0     1     2 ... 24945 24947 24949] TEST: [    9    11    13 ... 24939 24946 24948]\n",
      "CV Accuracy: 0.54072  Dropped time_feat: ('year', 'month', 'hour', 'sec')\n",
      "TRAIN: [    0     1     2 ... 24947 24948 24949] TEST: [   17    29    30 ... 24935 24936 24938]\n",
      "TRAIN: [    1     2     5 ... 24946 24948 24949] TEST: [    0     3     4 ... 24940 24942 24947]\n",
      "TRAIN: [    0     1     2 ... 24946 24947 24948] TEST: [    5     7     8 ... 24944 24945 24949]\n",
      "TRAIN: [    0     3     4 ... 24947 24948 24949] TEST: [    1     2    10 ... 24923 24937 24941]\n",
      "TRAIN: [    0     1     2 ... 24945 24947 24949] TEST: [    9    11    13 ... 24939 24946 24948]\n",
      "CV Accuracy: 0.54196  Dropped time_feat: ('year', 'month', 'min', 'sec')\n",
      "TRAIN: [    0     1     2 ... 24947 24948 24949] TEST: [   17    29    30 ... 24935 24936 24938]\n",
      "TRAIN: [    1     2     5 ... 24946 24948 24949] TEST: [    0     3     4 ... 24940 24942 24947]\n",
      "TRAIN: [    0     1     2 ... 24946 24947 24948] TEST: [    5     7     8 ... 24944 24945 24949]\n",
      "TRAIN: [    0     3     4 ... 24947 24948 24949] TEST: [    1     2    10 ... 24923 24937 24941]\n",
      "TRAIN: [    0     1     2 ... 24945 24947 24949] TEST: [    9    11    13 ... 24939 24946 24948]\n",
      "CV Accuracy: 0.55218  Dropped time_feat: ('year', 'day', 'hour', 'min')\n",
      "TRAIN: [    0     1     2 ... 24947 24948 24949] TEST: [   17    29    30 ... 24935 24936 24938]\n",
      "TRAIN: [    1     2     5 ... 24946 24948 24949] TEST: [    0     3     4 ... 24940 24942 24947]\n",
      "TRAIN: [    0     1     2 ... 24946 24947 24948] TEST: [    5     7     8 ... 24944 24945 24949]\n",
      "TRAIN: [    0     3     4 ... 24947 24948 24949] TEST: [    1     2    10 ... 24923 24937 24941]\n",
      "TRAIN: [    0     1     2 ... 24945 24947 24949] TEST: [    9    11    13 ... 24939 24946 24948]\n",
      "CV Accuracy: 0.55579  Dropped time_feat: ('year', 'day', 'hour', 'sec')\n",
      "TRAIN: [    0     1     2 ... 24947 24948 24949] TEST: [   17    29    30 ... 24935 24936 24938]\n",
      "TRAIN: [    1     2     5 ... 24946 24948 24949] TEST: [    0     3     4 ... 24940 24942 24947]\n",
      "TRAIN: [    0     1     2 ... 24946 24947 24948] TEST: [    5     7     8 ... 24944 24945 24949]\n",
      "TRAIN: [    0     3     4 ... 24947 24948 24949] TEST: [    1     2    10 ... 24923 24937 24941]\n",
      "TRAIN: [    0     1     2 ... 24945 24947 24949] TEST: [    9    11    13 ... 24939 24946 24948]\n",
      "CV Accuracy: 0.55828  Dropped time_feat: ('year', 'day', 'min', 'sec')\n",
      "TRAIN: [    0     1     2 ... 24947 24948 24949] TEST: [   17    29    30 ... 24935 24936 24938]\n",
      "TRAIN: [    1     2     5 ... 24946 24948 24949] TEST: [    0     3     4 ... 24940 24942 24947]\n",
      "TRAIN: [    0     1     2 ... 24946 24947 24948] TEST: [    5     7     8 ... 24944 24945 24949]\n",
      "TRAIN: [    0     3     4 ... 24947 24948 24949] TEST: [    1     2    10 ... 24923 24937 24941]\n",
      "TRAIN: [    0     1     2 ... 24945 24947 24949] TEST: [    9    11    13 ... 24939 24946 24948]\n",
      "CV Accuracy: 0.55455  Dropped time_feat: ('year', 'hour', 'min', 'sec')\n",
      "TRAIN: [    0     1     2 ... 24947 24948 24949] TEST: [   17    29    30 ... 24935 24936 24938]\n",
      "TRAIN: [    1     2     5 ... 24946 24948 24949] TEST: [    0     3     4 ... 24940 24942 24947]\n",
      "TRAIN: [    0     1     2 ... 24946 24947 24948] TEST: [    5     7     8 ... 24944 24945 24949]\n",
      "TRAIN: [    0     3     4 ... 24947 24948 24949] TEST: [    1     2    10 ... 24923 24937 24941]\n",
      "TRAIN: [    0     1     2 ... 24945 24947 24949] TEST: [    9    11    13 ... 24939 24946 24948]\n",
      "CV Accuracy: 0.54108  Dropped time_feat: ('month', 'day', 'hour', 'min')\n",
      "TRAIN: [    0     1     2 ... 24947 24948 24949] TEST: [   17    29    30 ... 24935 24936 24938]\n",
      "TRAIN: [    1     2     5 ... 24946 24948 24949] TEST: [    0     3     4 ... 24940 24942 24947]\n",
      "TRAIN: [    0     1     2 ... 24946 24947 24948] TEST: [    5     7     8 ... 24944 24945 24949]\n",
      "TRAIN: [    0     3     4 ... 24947 24948 24949] TEST: [    1     2    10 ... 24923 24937 24941]\n",
      "TRAIN: [    0     1     2 ... 24945 24947 24949] TEST: [    9    11    13 ... 24939 24946 24948]\n",
      "CV Accuracy: 0.54285  Dropped time_feat: ('month', 'day', 'hour', 'sec')\n",
      "TRAIN: [    0     1     2 ... 24947 24948 24949] TEST: [   17    29    30 ... 24935 24936 24938]\n",
      "TRAIN: [    1     2     5 ... 24946 24948 24949] TEST: [    0     3     4 ... 24940 24942 24947]\n",
      "TRAIN: [    0     1     2 ... 24946 24947 24948] TEST: [    5     7     8 ... 24944 24945 24949]\n",
      "TRAIN: [    0     3     4 ... 24947 24948 24949] TEST: [    1     2    10 ... 24923 24937 24941]\n",
      "TRAIN: [    0     1     2 ... 24945 24947 24949] TEST: [    9    11    13 ... 24939 24946 24948]\n",
      "CV Accuracy: 0.54309  Dropped time_feat: ('month', 'day', 'min', 'sec')\n",
      "TRAIN: [    0     1     2 ... 24947 24948 24949] TEST: [   17    29    30 ... 24935 24936 24938]\n",
      "TRAIN: [    1     2     5 ... 24946 24948 24949] TEST: [    0     3     4 ... 24940 24942 24947]\n",
      "TRAIN: [    0     1     2 ... 24946 24947 24948] TEST: [    5     7     8 ... 24944 24945 24949]\n",
      "TRAIN: [    0     3     4 ... 24947 24948 24949] TEST: [    1     2    10 ... 24923 24937 24941]\n",
      "TRAIN: [    0     1     2 ... 24945 24947 24949] TEST: [    9    11    13 ... 24939 24946 24948]\n",
      "CV Accuracy: 0.54220  Dropped time_feat: ('month', 'hour', 'min', 'sec')\n",
      "TRAIN: [    0     1     2 ... 24947 24948 24949] TEST: [   17    29    30 ... 24935 24936 24938]\n",
      "TRAIN: [    1     2     5 ... 24946 24948 24949] TEST: [    0     3     4 ... 24940 24942 24947]\n",
      "TRAIN: [    0     1     2 ... 24946 24947 24948] TEST: [    5     7     8 ... 24944 24945 24949]\n",
      "TRAIN: [    0     3     4 ... 24947 24948 24949] TEST: [    1     2    10 ... 24923 24937 24941]\n"
     ]
    },
    {
     "name": "stdout",
     "output_type": "stream",
     "text": [
      "TRAIN: [    0     1     2 ... 24945 24947 24949] TEST: [    9    11    13 ... 24939 24946 24948]\n",
      "CV Accuracy: 0.55507  Dropped time_feat: ('day', 'hour', 'min', 'sec')\n"
     ]
    }
   ],
   "source": [
    "from sklearn import model_selection\n",
    "from sklearn.ensemble import RandomForestClassifier\n",
    "from sklearn.metrics import accuracy_score\n",
    "\n",
    "from itertools import combinations\n",
    "perms = combinations(time_feat,4)\n",
    "\n",
    "forest = RandomForestClassifier(n_estimators=1000, random_state=42, n_jobs=-2, verbose=0)\n",
    "\n",
    "cv = model_selection.KFold(n_splits=5, shuffle=True, random_state=42)\n",
    "\n",
    "perms_list=[]\n",
    "for perm in perms:\n",
    "    df_X_drop = df_X.drop(columns=[_ for _ in perm])\n",
    "    \n",
    "    accuracy_list=[]\n",
    "    for train_index, test_index in cv.split(df_X_drop.values, df_y.values):\n",
    "        print(\"TRAIN:\", train_index, \"TEST:\", test_index)\n",
    "        X_train, X_val = df_X_drop.values[train_index], df_X_drop.values[test_index]\n",
    "        y_train, y_val = df_y.values[train_index], df_y.values[test_index]\n",
    "\n",
    "        # For training, fit() is used\n",
    "        forest.fit(X_train, y_train)\n",
    "\n",
    "        # For other metrics, we need the predictions of the model\n",
    "        y_pred = forest.predict(X_val)\n",
    "\n",
    "        accuracy_list.append(accuracy_score(y_val, y_pred))\n",
    "    perms_list.append((np.mean(accuracy_list),perm))\n",
    "    print('CV Accuracy: %.5f  Dropped time_feat: %s'% (np.mean(accuracy_list),perm))"
   ]
  },
  {
   "cell_type": "code",
   "execution_count": 20,
   "metadata": {},
   "outputs": [
    {
     "name": "stdout",
     "output_type": "stream",
     "text": [
      "('year', 'month', 'day', 'hour')\n",
      "('year', 'month', 'day', 'min')\n",
      "('year', 'month', 'day', 'sec')\n",
      "('year', 'month', 'hour', 'min')\n",
      "('year', 'month', 'hour', 'sec')\n",
      "('year', 'month', 'min', 'sec')\n",
      "('year', 'day', 'hour', 'min')\n",
      "('year', 'day', 'hour', 'sec')\n",
      "('year', 'day', 'min', 'sec')\n",
      "('year', 'hour', 'min', 'sec')\n",
      "('month', 'day', 'hour', 'min')\n",
      "('month', 'day', 'hour', 'sec')\n",
      "('month', 'day', 'min', 'sec')\n",
      "('month', 'hour', 'min', 'sec')\n",
      "('day', 'hour', 'min', 'sec')\n"
     ]
    }
   ],
   "source": [
    "from itertools import combinations\n",
    "perms = combinations(time_feat,4)\n",
    "for perm in perms:\n",
    "    print(perm)"
   ]
  },
  {
   "cell_type": "code",
   "execution_count": 79,
   "metadata": {},
   "outputs": [
    {
     "data": {
      "text/plain": [
       "0.5556198675975835"
      ]
     },
     "execution_count": 79,
     "metadata": {},
     "output_type": "execute_result"
    }
   ],
   "source": [
    "from sklearn.linear_model import RidgeClassifierCV\n",
    "rc_cv = RidgeClassifierCV(alphas=[50],cv=5)\n",
    "rc_cv.fit(df_X.values, df_y.values)\n",
    "rc_cv.score(df_X.values, df_y.values)"
   ]
  },
  {
   "cell_type": "code",
   "execution_count": 97,
   "metadata": {},
   "outputs": [
    {
     "data": {
      "text/plain": [
       "0.5550772347429729"
      ]
     },
     "execution_count": 97,
     "metadata": {},
     "output_type": "execute_result"
    }
   ],
   "source": [
    "from sklearn.linear_model import LogisticRegression\n",
    "lc = LogisticRegression(C=0.1, n_jobs=1, penalty='l1',solver='liblinear')\n",
    "lc.fit(df_X.values, df_y.values)\n",
    "lc.score(df_X.values, df_y.values)"
   ]
  },
  {
   "cell_type": "code",
   "execution_count": 98,
   "metadata": {},
   "outputs": [
    {
     "data": {
      "text/plain": [
       "0.553847266939189"
      ]
     },
     "execution_count": 98,
     "metadata": {},
     "output_type": "execute_result"
    }
   ],
   "source": [
    "from sklearn.linear_model import RidgeClassifier\n",
    "rc = RidgeClassifier(alpha=0.1,solver='sparse_cg')\n",
    "rc.fit(df_X.values, df_y.values)\n",
    "rc.score(df_X.values, df_y.values)"
   ]
  },
  {
   "cell_type": "code",
   "execution_count": 99,
   "metadata": {},
   "outputs": [
    {
     "name": "stdout",
     "output_type": "stream",
     "text": [
      "(1, 2, 3): 0.55254 (+/- 0.0077)\n",
      "(1, 3, 2): 0.55414 (+/- 0.0071)\n",
      "(2, 1, 3): 0.55254 (+/- 0.0077)\n",
      "(2, 3, 1): 0.55414 (+/- 0.0071)\n",
      "(3, 1, 2): 0.56611 (+/- 0.0069)\n",
      "(3, 2, 1): 0.56611 (+/- 0.0069)\n",
      "\n",
      "Best (3, 2, 1): -1.00000\n"
     ]
    }
   ],
   "source": [
    "from sklearn.model_selection import cross_val_score\n",
    "from itertools import permutations\n",
    "from sklearn.ensemble import VotingClassifier\n",
    "\n",
    "best_vt, best_w, best_acc = None, (), -1\n",
    "for a, b, c in list(permutations(range(1,4),3)): # try some weight combination\n",
    "    voting_clf = VotingClassifier(estimators=[('forest',forest),('rc',rc),('lc',lc)], voting='hard', weights=[a,b,c])\n",
    "    acc = cross_val_score(estimator=voting_clf, X=df_X.values, y=df_y.values, cv=5, scoring='accuracy')\n",
    "    \n",
    "    print('%s: %.5f (+/- %.4f)' % ((a,b,c), acc.mean(), acc.std()))\n",
    "    if best_acc < acc.mean():\n",
    "        best_vt, best_w, best_score = voting_clf, (a, b,c), acc.mean()\n",
    "        \n",
    "print('\\nBest %s: %.5f' % (best_w, best_score))"
   ]
  },
  {
   "cell_type": "code",
   "execution_count": 109,
   "metadata": {},
   "outputs": [
    {
     "name": "stdout",
     "output_type": "stream",
     "text": [
      "(3, 2, 1): 0.56611 (+/- 0.0069)\n"
     ]
    }
   ],
   "source": [
    "voting_clf = VotingClassifier(estimators=[('forest',forest),('rc',rc),('lc',lc)], voting='hard', weights=[3,2,1])\n",
    "acc = cross_val_score(estimator=voting_clf, X=df_X.values, y=df_y.values, cv=5, scoring='accuracy')\n",
    "\n",
    "print('%s: %.5f (+/- %.4f)' % ((3,2,1), acc.mean(), acc.std()))"
   ]
  },
  {
   "cell_type": "code",
   "execution_count": 115,
   "metadata": {},
   "outputs": [],
   "source": [
    "preprocessed_test = pd.read_csv('test/preprocessed_test.csv')\n",
    "topics_t_test = pd.read_csv('test/topic_tfidf_tsne_test.csv')\n",
    "df_tt_test = pd.read_csv('test/title_tfidf_tsne_test.csv')\n",
    "df_ct_test = pd.read_csv('test/content_tfidf_tsne_test.csv')"
   ]
  },
  {
   "cell_type": "code",
   "execution_count": 116,
   "metadata": {},
   "outputs": [],
   "source": [
    "preprocessed_test[['top0','top1','top2']] = topics_t_test[['top0','top1','top2']]\n",
    "df_all_test = pd.concat([preprocessed_test, df_tt_test, df_ct_test], axis=1)\n",
    "df_X_test = df_all_test.drop(columns=['index', 'Id', 'Page content', 'title', 'raw_content','topics'])"
   ]
  },
  {
   "cell_type": "code",
   "execution_count": 117,
   "metadata": {},
   "outputs": [
    {
     "data": {
      "text/html": [
       "<div>\n",
       "<style scoped>\n",
       "    .dataframe tbody tr th:only-of-type {\n",
       "        vertical-align: middle;\n",
       "    }\n",
       "\n",
       "    .dataframe tbody tr th {\n",
       "        vertical-align: top;\n",
       "    }\n",
       "\n",
       "    .dataframe thead th {\n",
       "        text-align: right;\n",
       "    }\n",
       "</style>\n",
       "<table border=\"1\" class=\"dataframe\">\n",
       "  <thead>\n",
       "    <tr style=\"text-align: right;\">\n",
       "      <th></th>\n",
       "      <th>data-channel</th>\n",
       "      <th>content_length</th>\n",
       "      <th>avg_word_length</th>\n",
       "      <th>author</th>\n",
       "      <th>year</th>\n",
       "      <th>month</th>\n",
       "      <th>day</th>\n",
       "      <th>hour</th>\n",
       "      <th>min</th>\n",
       "      <th>sec</th>\n",
       "      <th>...</th>\n",
       "      <th>title_length</th>\n",
       "      <th>top0</th>\n",
       "      <th>top1</th>\n",
       "      <th>top2</th>\n",
       "      <th>tt0</th>\n",
       "      <th>tt1</th>\n",
       "      <th>tt2</th>\n",
       "      <th>0</th>\n",
       "      <th>1</th>\n",
       "      <th>2</th>\n",
       "    </tr>\n",
       "  </thead>\n",
       "  <tbody>\n",
       "    <tr>\n",
       "      <th>0</th>\n",
       "      <td>5</td>\n",
       "      <td>622</td>\n",
       "      <td>5.220114</td>\n",
       "      <td>243</td>\n",
       "      <td>2013</td>\n",
       "      <td>9</td>\n",
       "      <td>9</td>\n",
       "      <td>19</td>\n",
       "      <td>47</td>\n",
       "      <td>2</td>\n",
       "      <td>...</td>\n",
       "      <td>74</td>\n",
       "      <td>6.816614</td>\n",
       "      <td>-12.908992</td>\n",
       "      <td>-9.823444</td>\n",
       "      <td>16.643034</td>\n",
       "      <td>-29.885660</td>\n",
       "      <td>-37.205980</td>\n",
       "      <td>25.453863</td>\n",
       "      <td>-13.738965</td>\n",
       "      <td>9.917775</td>\n",
       "    </tr>\n",
       "    <tr>\n",
       "      <th>1</th>\n",
       "      <td>25</td>\n",
       "      <td>149</td>\n",
       "      <td>4.739437</td>\n",
       "      <td>263</td>\n",
       "      <td>2013</td>\n",
       "      <td>10</td>\n",
       "      <td>31</td>\n",
       "      <td>9</td>\n",
       "      <td>25</td>\n",
       "      <td>2</td>\n",
       "      <td>...</td>\n",
       "      <td>36</td>\n",
       "      <td>17.831564</td>\n",
       "      <td>8.411661</td>\n",
       "      <td>-20.731312</td>\n",
       "      <td>-7.531660</td>\n",
       "      <td>10.034243</td>\n",
       "      <td>-43.818336</td>\n",
       "      <td>-7.649108</td>\n",
       "      <td>15.919584</td>\n",
       "      <td>-16.818075</td>\n",
       "    </tr>\n",
       "    <tr>\n",
       "      <th>2</th>\n",
       "      <td>2</td>\n",
       "      <td>168</td>\n",
       "      <td>5.018293</td>\n",
       "      <td>278</td>\n",
       "      <td>2013</td>\n",
       "      <td>6</td>\n",
       "      <td>25</td>\n",
       "      <td>12</td>\n",
       "      <td>54</td>\n",
       "      <td>54</td>\n",
       "      <td>...</td>\n",
       "      <td>46</td>\n",
       "      <td>-6.013624</td>\n",
       "      <td>-17.264320</td>\n",
       "      <td>-1.371369</td>\n",
       "      <td>-14.594997</td>\n",
       "      <td>-19.404720</td>\n",
       "      <td>47.199028</td>\n",
       "      <td>16.951826</td>\n",
       "      <td>4.232488</td>\n",
       "      <td>-4.475815</td>\n",
       "    </tr>\n",
       "    <tr>\n",
       "      <th>3</th>\n",
       "      <td>6</td>\n",
       "      <td>162</td>\n",
       "      <td>5.581699</td>\n",
       "      <td>211</td>\n",
       "      <td>2013</td>\n",
       "      <td>2</td>\n",
       "      <td>13</td>\n",
       "      <td>3</td>\n",
       "      <td>30</td>\n",
       "      <td>21</td>\n",
       "      <td>...</td>\n",
       "      <td>40</td>\n",
       "      <td>-5.639806</td>\n",
       "      <td>-7.274945</td>\n",
       "      <td>-14.487558</td>\n",
       "      <td>-4.278851</td>\n",
       "      <td>29.432812</td>\n",
       "      <td>27.236320</td>\n",
       "      <td>-0.467867</td>\n",
       "      <td>-20.695152</td>\n",
       "      <td>-4.905631</td>\n",
       "    </tr>\n",
       "    <tr>\n",
       "      <th>4</th>\n",
       "      <td>5</td>\n",
       "      <td>225</td>\n",
       "      <td>5.041096</td>\n",
       "      <td>142</td>\n",
       "      <td>2014</td>\n",
       "      <td>10</td>\n",
       "      <td>3</td>\n",
       "      <td>1</td>\n",
       "      <td>34</td>\n",
       "      <td>54</td>\n",
       "      <td>...</td>\n",
       "      <td>70</td>\n",
       "      <td>-2.400199</td>\n",
       "      <td>-6.273100</td>\n",
       "      <td>-10.682630</td>\n",
       "      <td>23.818120</td>\n",
       "      <td>-0.059462</td>\n",
       "      <td>-49.796720</td>\n",
       "      <td>-1.435363</td>\n",
       "      <td>-20.496859</td>\n",
       "      <td>5.278312</td>\n",
       "    </tr>\n",
       "    <tr>\n",
       "      <th>...</th>\n",
       "      <td>...</td>\n",
       "      <td>...</td>\n",
       "      <td>...</td>\n",
       "      <td>...</td>\n",
       "      <td>...</td>\n",
       "      <td>...</td>\n",
       "      <td>...</td>\n",
       "      <td>...</td>\n",
       "      <td>...</td>\n",
       "      <td>...</td>\n",
       "      <td>...</td>\n",
       "      <td>...</td>\n",
       "      <td>...</td>\n",
       "      <td>...</td>\n",
       "      <td>...</td>\n",
       "      <td>...</td>\n",
       "      <td>...</td>\n",
       "      <td>...</td>\n",
       "      <td>...</td>\n",
       "      <td>...</td>\n",
       "      <td>...</td>\n",
       "    </tr>\n",
       "    <tr>\n",
       "      <th>11842</th>\n",
       "      <td>25</td>\n",
       "      <td>132</td>\n",
       "      <td>4.869919</td>\n",
       "      <td>184</td>\n",
       "      <td>2013</td>\n",
       "      <td>2</td>\n",
       "      <td>9</td>\n",
       "      <td>21</td>\n",
       "      <td>0</td>\n",
       "      <td>44</td>\n",
       "      <td>...</td>\n",
       "      <td>57</td>\n",
       "      <td>-13.622000</td>\n",
       "      <td>-1.237494</td>\n",
       "      <td>0.043808</td>\n",
       "      <td>-21.629366</td>\n",
       "      <td>-42.947340</td>\n",
       "      <td>-0.746960</td>\n",
       "      <td>-22.297750</td>\n",
       "      <td>0.470062</td>\n",
       "      <td>-17.739042</td>\n",
       "    </tr>\n",
       "    <tr>\n",
       "      <th>11843</th>\n",
       "      <td>8</td>\n",
       "      <td>575</td>\n",
       "      <td>4.584071</td>\n",
       "      <td>62</td>\n",
       "      <td>2013</td>\n",
       "      <td>4</td>\n",
       "      <td>18</td>\n",
       "      <td>19</td>\n",
       "      <td>3</td>\n",
       "      <td>24</td>\n",
       "      <td>...</td>\n",
       "      <td>53</td>\n",
       "      <td>2.437301</td>\n",
       "      <td>24.756586</td>\n",
       "      <td>-5.888004</td>\n",
       "      <td>-8.250163</td>\n",
       "      <td>-51.949707</td>\n",
       "      <td>26.182446</td>\n",
       "      <td>13.921059</td>\n",
       "      <td>5.931064</td>\n",
       "      <td>19.281730</td>\n",
       "    </tr>\n",
       "    <tr>\n",
       "      <th>11844</th>\n",
       "      <td>18</td>\n",
       "      <td>1204</td>\n",
       "      <td>5.254882</td>\n",
       "      <td>49</td>\n",
       "      <td>2014</td>\n",
       "      <td>1</td>\n",
       "      <td>22</td>\n",
       "      <td>23</td>\n",
       "      <td>38</td>\n",
       "      <td>44</td>\n",
       "      <td>...</td>\n",
       "      <td>59</td>\n",
       "      <td>2.191630</td>\n",
       "      <td>-25.755600</td>\n",
       "      <td>-11.615255</td>\n",
       "      <td>27.052912</td>\n",
       "      <td>-26.366764</td>\n",
       "      <td>-25.327444</td>\n",
       "      <td>22.581470</td>\n",
       "      <td>-13.518455</td>\n",
       "      <td>8.818394</td>\n",
       "    </tr>\n",
       "    <tr>\n",
       "      <th>11845</th>\n",
       "      <td>25</td>\n",
       "      <td>136</td>\n",
       "      <td>4.684615</td>\n",
       "      <td>263</td>\n",
       "      <td>2013</td>\n",
       "      <td>8</td>\n",
       "      <td>28</td>\n",
       "      <td>8</td>\n",
       "      <td>37</td>\n",
       "      <td>13</td>\n",
       "      <td>...</td>\n",
       "      <td>53</td>\n",
       "      <td>-14.641076</td>\n",
       "      <td>6.706494</td>\n",
       "      <td>15.992154</td>\n",
       "      <td>16.324444</td>\n",
       "      <td>-28.763903</td>\n",
       "      <td>15.209282</td>\n",
       "      <td>-2.523557</td>\n",
       "      <td>26.937930</td>\n",
       "      <td>-1.304909</td>\n",
       "    </tr>\n",
       "    <tr>\n",
       "      <th>11846</th>\n",
       "      <td>25</td>\n",
       "      <td>1906</td>\n",
       "      <td>4.700113</td>\n",
       "      <td>222</td>\n",
       "      <td>2014</td>\n",
       "      <td>6</td>\n",
       "      <td>24</td>\n",
       "      <td>13</td>\n",
       "      <td>0</td>\n",
       "      <td>28</td>\n",
       "      <td>...</td>\n",
       "      <td>44</td>\n",
       "      <td>-5.528085</td>\n",
       "      <td>18.765667</td>\n",
       "      <td>19.562544</td>\n",
       "      <td>-18.241823</td>\n",
       "      <td>17.492710</td>\n",
       "      <td>-29.289583</td>\n",
       "      <td>11.951087</td>\n",
       "      <td>16.279919</td>\n",
       "      <td>-9.319522</td>\n",
       "    </tr>\n",
       "  </tbody>\n",
       "</table>\n",
       "<p>11847 rows × 23 columns</p>\n",
       "</div>"
      ],
      "text/plain": [
       "       data-channel  content_length  avg_word_length  author  year  month  \\\n",
       "0                 5             622         5.220114     243  2013      9   \n",
       "1                25             149         4.739437     263  2013     10   \n",
       "2                 2             168         5.018293     278  2013      6   \n",
       "3                 6             162         5.581699     211  2013      2   \n",
       "4                 5             225         5.041096     142  2014     10   \n",
       "...             ...             ...              ...     ...   ...    ...   \n",
       "11842            25             132         4.869919     184  2013      2   \n",
       "11843             8             575         4.584071      62  2013      4   \n",
       "11844            18            1204         5.254882      49  2014      1   \n",
       "11845            25             136         4.684615     263  2013      8   \n",
       "11846            25            1906         4.700113     222  2014      6   \n",
       "\n",
       "       day  hour  min  sec  ...  title_length       top0       top1  \\\n",
       "0        9    19   47    2  ...            74   6.816614 -12.908992   \n",
       "1       31     9   25    2  ...            36  17.831564   8.411661   \n",
       "2       25    12   54   54  ...            46  -6.013624 -17.264320   \n",
       "3       13     3   30   21  ...            40  -5.639806  -7.274945   \n",
       "4        3     1   34   54  ...            70  -2.400199  -6.273100   \n",
       "...    ...   ...  ...  ...  ...           ...        ...        ...   \n",
       "11842    9    21    0   44  ...            57 -13.622000  -1.237494   \n",
       "11843   18    19    3   24  ...            53   2.437301  24.756586   \n",
       "11844   22    23   38   44  ...            59   2.191630 -25.755600   \n",
       "11845   28     8   37   13  ...            53 -14.641076   6.706494   \n",
       "11846   24    13    0   28  ...            44  -5.528085  18.765667   \n",
       "\n",
       "            top2        tt0        tt1        tt2          0          1  \\\n",
       "0      -9.823444  16.643034 -29.885660 -37.205980  25.453863 -13.738965   \n",
       "1     -20.731312  -7.531660  10.034243 -43.818336  -7.649108  15.919584   \n",
       "2      -1.371369 -14.594997 -19.404720  47.199028  16.951826   4.232488   \n",
       "3     -14.487558  -4.278851  29.432812  27.236320  -0.467867 -20.695152   \n",
       "4     -10.682630  23.818120  -0.059462 -49.796720  -1.435363 -20.496859   \n",
       "...          ...        ...        ...        ...        ...        ...   \n",
       "11842   0.043808 -21.629366 -42.947340  -0.746960 -22.297750   0.470062   \n",
       "11843  -5.888004  -8.250163 -51.949707  26.182446  13.921059   5.931064   \n",
       "11844 -11.615255  27.052912 -26.366764 -25.327444  22.581470 -13.518455   \n",
       "11845  15.992154  16.324444 -28.763903  15.209282  -2.523557  26.937930   \n",
       "11846  19.562544 -18.241823  17.492710 -29.289583  11.951087  16.279919   \n",
       "\n",
       "               2  \n",
       "0       9.917775  \n",
       "1     -16.818075  \n",
       "2      -4.475815  \n",
       "3      -4.905631  \n",
       "4       5.278312  \n",
       "...          ...  \n",
       "11842 -17.739042  \n",
       "11843  19.281730  \n",
       "11844   8.818394  \n",
       "11845  -1.304909  \n",
       "11846  -9.319522  \n",
       "\n",
       "[11847 rows x 23 columns]"
      ]
     },
     "execution_count": 117,
     "metadata": {},
     "output_type": "execute_result"
    }
   ],
   "source": [
    "df_X_test"
   ]
  },
  {
   "cell_type": "code",
   "execution_count": 119,
   "metadata": {},
   "outputs": [
    {
     "data": {
      "text/plain": [
       "VotingClassifier(estimators=[('forest',\n",
       "                              RandomForestClassifier(n_estimators=500,\n",
       "                                                     n_jobs=-2,\n",
       "                                                     random_state=42)),\n",
       "                             ('rc',\n",
       "                              RidgeClassifier(alpha=0.1, solver='sparse_cg')),\n",
       "                             ('lc',\n",
       "                              LogisticRegression(C=0.1, n_jobs=1, penalty='l1',\n",
       "                                                 solver='liblinear'))],\n",
       "                 weights=[3, 2, 1])"
      ]
     },
     "execution_count": 119,
     "metadata": {},
     "output_type": "execute_result"
    }
   ],
   "source": [
    "voting_clf.fit(df_X, df_y)"
   ]
  },
  {
   "cell_type": "code",
   "execution_count": 125,
   "metadata": {},
   "outputs": [],
   "source": [
    "voting_pred = voting_clf.predict(df_X_test)"
   ]
  },
  {
   "cell_type": "code",
   "execution_count": 128,
   "metadata": {},
   "outputs": [
    {
     "data": {
      "text/plain": [
       "-1"
      ]
     },
     "execution_count": 128,
     "metadata": {},
     "output_type": "execute_result"
    }
   ],
   "source": [
    "voting_pred"
   ]
  },
  {
   "cell_type": "code",
   "execution_count": 129,
   "metadata": {},
   "outputs": [],
   "source": [
    "voting_pred = [ 0 if _==-1 else 1 for _ in voting_pred]"
   ]
  },
  {
   "cell_type": "code",
   "execution_count": 140,
   "metadata": {},
   "outputs": [],
   "source": [
    "df_voting = pd.DataFrame(data= voting_pred, columns=['Popularity'])"
   ]
  },
  {
   "cell_type": "code",
   "execution_count": 141,
   "metadata": {},
   "outputs": [],
   "source": [
    "df_voting['Id'] = df_all_test['Id'].values"
   ]
  },
  {
   "cell_type": "code",
   "execution_count": 144,
   "metadata": {},
   "outputs": [],
   "source": [
    "df_voting.to_csv('voting_predict.csv', index=False)"
   ]
  },
  {
   "cell_type": "code",
   "execution_count": null,
   "metadata": {},
   "outputs": [],
   "source": []
  }
 ],
 "metadata": {
  "kernelspec": {
   "display_name": "Python 3",
   "language": "python",
   "name": "python3"
  },
  "language_info": {
   "codemirror_mode": {
    "name": "ipython",
    "version": 3
   },
   "file_extension": ".py",
   "mimetype": "text/x-python",
   "name": "python",
   "nbconvert_exporter": "python",
   "pygments_lexer": "ipython3",
   "version": "3.7.7"
  }
 },
 "nbformat": 4,
 "nbformat_minor": 4
}
