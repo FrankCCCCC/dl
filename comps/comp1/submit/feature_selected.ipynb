{
 "cells": [
  {
   "cell_type": "code",
   "execution_count": 36,
   "metadata": {},
   "outputs": [],
   "source": [
    "\n",
    "import pandas as pd\n",
    "import csv\n",
    "df = pd.read_csv('train.csv')\n",
    "text = df['Page content'].iloc[:]   "
   ]
  },
  {
   "cell_type": "code",
   "execution_count": 31,
   "metadata": {},
   "outputs": [],
   "source": [
    "from bs4 import BeautifulSoup\n",
    "\n",
    "def get_feature(soup):\n",
    "    feature = []\n",
    "    l = soup.time[\"datetime\"]\n",
    "    ll = l.replace(',', '').replace(':', ' ').split(\" \")\n",
    "    feature.append(weekends(ll[0]))\n",
    "    feature.append(len(soup(\"img\")))\n",
    "    feature.append(len(soup.find_all(\"a\")))\n",
    "    feature.append(len(soup.h1.string))\n",
    "    return feature\n",
    "def weekends(s):\n",
    "    if (s == \"Sat\" or s == \"Sun\"):\n",
    "        return 1\n",
    "    else:\n",
    "        return 0"
   ]
  },
  {
   "cell_type": "code",
   "execution_count": 33,
   "metadata": {},
   "outputs": [],
   "source": [
    "total_feature = []\n",
    "feature_tag = [\"weekends\",\"img_number\",\"link_number\",\"title_length\"]\n",
    "for html in text:\n",
    "    soup = BeautifulSoup(html, 'html.parser')\n",
    "    feature_data = get_feature(soup)\n",
    "    total_feature.append(feature_data)\n"
   ]
  },
  {
   "cell_type": "code",
   "execution_count": 37,
   "metadata": {},
   "outputs": [],
   "source": [
    "with open('feature.csv', 'w', newline='') as csvFile:\n",
    "    writer = csv.writer(csvFile)\n",
    "    writer.writerow(feature_tag)\n",
    "    for row in total_feature:\n",
    "        writer.writerow(row)"
   ]
  },
  {
   "cell_type": "code",
   "execution_count": null,
   "metadata": {},
   "outputs": [],
   "source": []
  }
 ],
 "metadata": {
  "kernelspec": {
   "display_name": "Python 3",
   "language": "python",
   "name": "python3"
  },
  "language_info": {
   "codemirror_mode": {
    "name": "ipython",
    "version": 3
   },
   "file_extension": ".py",
   "mimetype": "text/x-python",
   "name": "python",
   "nbconvert_exporter": "python",
   "pygments_lexer": "ipython3",
   "version": "3.7.3"
  }
 },
 "nbformat": 4,
 "nbformat_minor": 4
}
